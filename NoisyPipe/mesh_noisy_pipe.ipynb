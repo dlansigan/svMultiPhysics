{
 "cells": [
  {
   "cell_type": "code",
   "execution_count": 61,
   "id": "409361ee",
   "metadata": {},
   "outputs": [],
   "source": [
    "import pyvista as pv\n",
    "import numpy as np\n",
    "from scipy.interpolate import make_interp_spline\n",
    "pv.set_jupyter_backend('client')\n",
    "from generate_noisy_pipe import *"
   ]
  },
  {
   "cell_type": "markdown",
   "id": "3be393e2",
   "metadata": {},
   "source": [
    "# Noisy cylinder"
   ]
  },
  {
   "cell_type": "code",
   "execution_count": 62,
   "id": "d732705e",
   "metadata": {},
   "outputs": [],
   "source": [
    "# Define mesh path\n",
    "case_path = '/home/dana/Documents/SimVascular/svMultiPhysics/NoisyPipe/tests/NP_Severe/'\n",
    "mesh_path = case_path + 'mesh/'\n",
    "geom_path = case_path + 'geom/'"
   ]
  },
  {
   "cell_type": "code",
   "execution_count": 63,
   "id": "921b78c2",
   "metadata": {},
   "outputs": [],
   "source": [
    "# Define cylinder parameters\n",
    "h = 10.\n",
    "radius = 1. # Base inner radius\n",
    "t = 0.2 # Solid wall thickness\n",
    "\n",
    "# Define angular resolution\n",
    "N_ares = 128\n",
    "\n",
    "# Initialize cross sections\n",
    "N_base = 32 # Base number of cross sections\n",
    "N_ref = 200 # Number of refinement points (for spline)\n",
    "\n",
    "# Define modes\n",
    "num_modes = 4\n",
    "kmin = 2\n",
    "kmax = 8\n",
    "Amin = -0.1\n",
    "Amax = 0.1\n",
    "\n",
    "fluid, solid, combined, region_solid = generate_geometry(radius, h, t, num_modes, kmin, kmax, Amin, Amax, N_ares, N_base, N_ref, random_seed=42)\n",
    "fluid.save(geom_path + \"fluid.vtp\")\n",
    "solid.save(geom_path + \"solid.vtp\")\n",
    "combined.save(geom_path + \"combined.vtp\")\n"
   ]
  },
  {
   "cell_type": "code",
   "execution_count": 64,
   "id": "cb4b5946",
   "metadata": {},
   "outputs": [
    {
     "data": {
      "application/vnd.jupyter.widget-view+json": {
       "model_id": "29da088741ca4e179bdbc262d671e749",
       "version_major": 2,
       "version_minor": 0
      },
      "text/plain": [
       "Widget(value='<iframe src=\"http://localhost:33755/index.html?ui=P_0x75512c42d5e0_30&reconnect=auto\" class=\"pyv…"
      ]
     },
     "metadata": {},
     "output_type": "display_data"
    },
    {
     "name": "stdout",
     "output_type": "stream",
     "text": [
      "Fluid manifold? True\n",
      "Solid manifold? True\n"
     ]
    }
   ],
   "source": [
    "# Load geometry files\n",
    "fluid = pv.read(geom_path + \"fluid.vtp\")\n",
    "solid = pv.read(geom_path + \"solid.vtp\")\n",
    "combined = pv.read(geom_path + \"combined.vtp\")\n",
    "\n",
    "# Visualize\n",
    "pl = pv.Plotter()\n",
    "pl.add_mesh(combined, cmap='tab10')#,show_edges=True)\n",
    "pl.add_points(region_solid, color='red')\n",
    "pl.show()\n",
    "print('Fluid manifold?', fluid.is_manifold)\n",
    "print('Solid manifold?', solid.is_manifold)"
   ]
  },
  {
   "cell_type": "code",
   "execution_count": 65,
   "id": "f175db67",
   "metadata": {},
   "outputs": [
    {
     "name": "stdout",
     "output_type": "stream",
     "text": [
      "Delaunizing vertices...\n",
      "Delaunay seconds:  0.152466\n",
      "Creating surface mesh ...\n",
      "Surface mesh seconds:  0.046816\n",
      "Recovering boundaries...\n",
      "Boundary recovery seconds:  0.192348\n",
      "Removing exterior tetrahedra ...\n",
      "Spreading region attributes.\n",
      "Exterior tets removal seconds:  0.064489\n",
      "Recovering Delaunayness...\n",
      "Delaunay recovery seconds:  0.078835\n",
      "Refining mesh...\n",
      "  68249 insertions, added 44716 points, 1142061 tetrahedra in queue.\n",
      "Refinement seconds:  1.57451\n",
      "Smoothing vertices...\n",
      "Mesh smoothing seconds:  2.41988\n",
      "Improving mesh...\n",
      "Mesh improvement seconds:  0.104257\n",
      "\n",
      "Writing nodes.\n",
      "Writing elements.\n",
      "Writing faces.\n",
      "Writing edges.\n",
      "\n",
      "Output seconds:  0.059824\n",
      "Total running seconds:  4.69391\n",
      "\n",
      "Statistics:\n",
      "\n",
      "  Input points: 51200\n",
      "  Input facets: 102652\n",
      "  Input segments: 150522\n",
      "  Input holes: 0\n",
      "  Input regions: 2\n",
      "\n",
      "  Mesh points: 97964\n",
      "  Mesh tetrahedra: 530684\n",
      "  Mesh faces: 1088014\n",
      "  Mesh faces on exterior boundary: 53292\n",
      "  Mesh faces on input facets: 104368\n",
      "  Mesh edges on input segments: 150595\n",
      "  Steiner points on input facets:  785\n",
      "  Steiner points on input segments:  73\n",
      "  Steiner points inside domain: 45906\n",
      "\n"
     ]
    }
   ],
   "source": [
    "# Define region seed points\n",
    "region_points = [\n",
    "    ([0, 0, 0], 1),  # inside fluid\n",
    "    (region_solid, 2),  # inside solid\n",
    "]\n",
    "\n",
    "# Generate mesh\n",
    "mesh, attrib = mesh_geometry(combined,region_points)\n",
    "meshes = extract_region(mesh,attrib)\n",
    "fluid_mesh = meshes[0]\n",
    "solid_mesh = meshes[1]\n",
    "\n",
    "# Split surfaces\n",
    "inlet_surf_f, outlet_surf_f, wall_surfs_f = split_surfaces(fluid_mesh)\n",
    "inlet_surf_s, outlet_surf_s, wall_surfs_s = split_surfaces(solid_mesh)\n",
    "\n",
    "# Save the volume and surface meshes\n",
    "fluid_mesh.save(mesh_path + \"fluid/mesh-complete.vtu\")\n",
    "inlet_surf_f.extract_surface(pass_cellid=True,pass_pointid=True).save(mesh_path + \"fluid/mesh-surfaces/inlet.vtp\")\n",
    "outlet_surf_f.extract_surface(pass_cellid=True,pass_pointid=True).save(mesh_path + \"fluid/mesh-surfaces/outlet.vtp\")\n",
    "wall_surfs_f[0].extract_surface(pass_cellid=True,pass_pointid=True).save(mesh_path + \"fluid/mesh-surfaces/interface.vtp\")\n",
    "solid_mesh.save(mesh_path + \"solid/mesh-complete.vtu\")\n",
    "inlet_surf_s.extract_surface(pass_cellid=True,pass_pointid=True).save(mesh_path + \"solid/mesh-surfaces/inlet.vtp\")\n",
    "outlet_surf_s.extract_surface(pass_cellid=True,pass_pointid=True).save(mesh_path + \"solid/mesh-surfaces/outlet.vtp\")\n",
    "wall_surfs_s[1].extract_surface(pass_cellid=True,pass_pointid=True).save(mesh_path + \"solid/mesh-surfaces/outside.vtp\")\n",
    "wall_surfs_s[0].extract_surface(pass_cellid=True,pass_pointid=True).save(mesh_path + \"solid/mesh-surfaces/interface.vtp\")\n",
    "# wall_surfs_f[0].extract_surface(pass_cellid=True,pass_pointid=True).save(mesh_path + \"solid/mesh-surfaces/interface.vtp\") # Should be the same"
   ]
  },
  {
   "cell_type": "code",
   "execution_count": 66,
   "id": "5da05c9a",
   "metadata": {},
   "outputs": [
    {
     "data": {
      "application/vnd.jupyter.widget-view+json": {
       "model_id": "a5a489a3a057400999e65f1e84cc4600",
       "version_major": 2,
       "version_minor": 0
      },
      "text/plain": [
       "Widget(value='<iframe src=\"http://localhost:33755/index.html?ui=P_0x755086120fb0_31&reconnect=auto\" class=\"pyv…"
      ]
     },
     "metadata": {},
     "output_type": "display_data"
    },
    {
     "data": {
      "application/vnd.jupyter.widget-view+json": {
       "model_id": "d2e3557f97944db3875f0f42b349b790",
       "version_major": 2,
       "version_minor": 0
      },
      "text/plain": [
       "Widget(value='<iframe src=\"http://localhost:33755/index.html?ui=P_0x75512d054c80_32&reconnect=auto\" class=\"pyv…"
      ]
     },
     "metadata": {},
     "output_type": "display_data"
    }
   ],
   "source": [
    "# Load fluid\n",
    "f_vol = pv.read(mesh_path + \"fluid/mesh-complete.vtu\")\n",
    "f_inlet = pv.read(mesh_path + \"fluid/mesh-surfaces/inlet.vtp\")\n",
    "f_outlet = pv.read(mesh_path + \"fluid/mesh-surfaces/outlet.vtp\")\n",
    "f_interface = pv.read(mesh_path + \"fluid/mesh-surfaces/interface.vtp\")\n",
    "f_vol_c = f_vol.clip(normal='y',origin=(0,0,0),invert=True)\n",
    "f_inlet = f_inlet.clip(normal='y',origin=(0,0,0),invert=True)\n",
    "f_outlet = f_outlet.clip(normal='y',origin=(0,0,0),invert=True)\n",
    "f_interface = f_interface.clip(normal='y',origin=(0,0,0),invert=True)\n",
    "\n",
    "# Load solid\n",
    "s_vol = pv.read(mesh_path + \"solid/mesh-complete.vtu\")\n",
    "s_inlet = pv.read(mesh_path + \"solid/mesh-surfaces/inlet.vtp\")\n",
    "s_outlet = pv.read(mesh_path + \"solid/mesh-surfaces/outlet.vtp\")\n",
    "s_interface = pv.read(mesh_path + \"solid/mesh-surfaces/interface.vtp\")\n",
    "s_outside = pv.read(mesh_path + \"solid/mesh-surfaces/outside.vtp\")\n",
    "s_vol_c = s_vol.clip(normal='y',origin=(0,0,0),invert=True)\n",
    "s_inlet = s_inlet.clip(normal='y',origin=(0,0,0),invert=True)\n",
    "s_outlet = s_outlet.clip(normal='y',origin=(0,0,0),invert=True)\n",
    "s_interface = s_interface.clip(normal='y',origin=(0,0,0),invert=True)\n",
    "s_outside = s_outside.clip(normal='y',origin=(0,0,0),invert=True)\n",
    "\n",
    "# Some camera stuff\n",
    "cam = [(13,3,3),(3,0,0),(0,0,1)]\n",
    "cam2 = [(0,25,0),(0,0,0),(0,0,1)]\n",
    "\n",
    "plotter1 = pv.Plotter(shape=(1,2),off_screen=True)\n",
    "# Volume mesh\n",
    "plotter1.subplot(0,0)\n",
    "plotter1.camera_position = cam\n",
    "plotter1.add_mesh(f_vol_c, color='cyan', edge_opacity=0.5, show_edges=True) # Fluid\n",
    "plotter1.add_mesh(s_vol_c, color='magenta', edge_opacity=0.5, show_edges=True) # Solid\n",
    "plotter1.add_text(\"Volume Mesh\", font_size=12)\n",
    "plotter1.add_axes()\n",
    "# Surface meshes\n",
    "plotter1.subplot(0,1)\n",
    "plotter1.camera_position = cam\n",
    "# Fluid\n",
    "plotter1.add_mesh(f_inlet, color='cyan', opacity=0.5, edge_opacity=0.5, show_edges=True)\n",
    "plotter1.add_mesh(f_outlet, color='magenta', opacity=0.5, edge_opacity=0.5, show_edges=True)\n",
    "plotter1.add_mesh(f_interface, color='green', edge_opacity=0.5, show_edges=True)\n",
    "# Solid\n",
    "plotter1.add_mesh(s_inlet, color='cyan', edge_opacity=0.5, show_edges=True)\n",
    "plotter1.add_mesh(s_outlet, color='magenta', edge_opacity=0.5, show_edges=True)\n",
    "plotter1.add_mesh(s_outside, color='red', edge_opacity=0.5, show_edges=True)\n",
    "plotter1.add_text(\"Surface Mesh\", font_size=12)\n",
    "plotter1.add_axes()\n",
    "plotter1.show()\n",
    "plotter1.save_graphic('mesh.eps')\n",
    "\n",
    "plotter2 = pv.Plotter(shape=(1,2))\n",
    "# Whole geometries\n",
    "plotter2.subplot(0,0)\n",
    "plotter2.camera_position = cam2\n",
    "plotter2.add_mesh(f_vol_c, color='cyan', opacity=0.5, show_edges=False) # Fluid\n",
    "plotter2.add_mesh(s_vol_c, color='magenta', opacity=0.5, show_edges=False) # Solid\n",
    "plotter2.add_axes()\n",
    "plotter2.subplot(0,1)\n",
    "plotter2.add_mesh(f_vol, color='cyan', opacity=0.5, show_edges=False) # Fluid\n",
    "plotter2.add_mesh(s_vol, color='magenta', opacity=0.5, show_edges=False) # Solid\n",
    "plotter2.add_axes()\n",
    "plotter2.show()\n",
    "plotter2.save_graphic('geom.eps')"
   ]
  },
  {
   "cell_type": "code",
   "execution_count": 67,
   "id": "b9a9f161",
   "metadata": {},
   "outputs": [
    {
     "data": {
      "text/html": [
       "<table style='width: 100%;'><tr><th>Header</th><th>Data Arrays</th></tr><tr><td>\n",
       "<table style='width: 100%;'>\n",
       "<tr><th>UnstructuredGrid</th><th>Information</th></tr>\n",
       "<tr><td>N Cells</td><td>211713</td></tr>\n",
       "<tr><td>N Points</td><td>47377</td></tr>\n",
       "<tr><td>X Bounds</td><td>-5.000e+00, 5.000e+00</td></tr>\n",
       "<tr><td>Y Bounds</td><td>-1.238e+00, 1.180e+00</td></tr>\n",
       "<tr><td>Z Bounds</td><td>-1.168e+00, 1.167e+00</td></tr>\n",
       "<tr><td>N Arrays</td><td>4</td></tr>\n",
       "</table>\n",
       "\n",
       "</td><td>\n",
       "<table style='width: 100%;'>\n",
       "<tr><th>Name</th><th>Field</th><th>Type</th><th>N Comp</th><th>Min</th><th>Max</th></tr>\n",
       "<tr><td><b>GlobalNodeID</b></td><td>Points</td><td>int32</td><td>1</td><td>0.000e+00</td><td>9.796e+04</td></tr>\n",
       "<tr><td>vtkOriginalPointIds</td><td>Points</td><td>int64</td><td>1</td><td>0.000e+00</td><td>9.796e+04</td></tr>\n",
       "<tr><td>GlobalElementID</td><td>Cells</td><td>int32</td><td>1</td><td>1.000e+00</td><td>5.307e+05</td></tr>\n",
       "<tr><td>vtkOriginalCellIds</td><td>Cells</td><td>int64</td><td>1</td><td>1.000e+00</td><td>5.307e+05</td></tr>\n",
       "</table>\n",
       "\n",
       "</td></tr> </table>"
      ],
      "text/plain": [
       "UnstructuredGrid (0x75508614e080)\n",
       "  N Cells:    211713\n",
       "  N Points:   47377\n",
       "  X Bounds:   -5.000e+00, 5.000e+00\n",
       "  Y Bounds:   -1.238e+00, 1.180e+00\n",
       "  Z Bounds:   -1.168e+00, 1.167e+00\n",
       "  N Arrays:   4"
      ]
     },
     "execution_count": 67,
     "metadata": {},
     "output_type": "execute_result"
    }
   ],
   "source": [
    "fluid_mesh"
   ]
  },
  {
   "cell_type": "code",
   "execution_count": 68,
   "id": "78259116",
   "metadata": {},
   "outputs": [
    {
     "name": "stdout",
     "output_type": "stream",
     "text": [
      "Approx. smallest cell length: 0.008771565309665108\n",
      "Approx. dt for CFL=1: 8.771565309665108e-05\n"
     ]
    },
    {
     "data": {
      "image/png": "[encoded data removed]",
      "text/plain": [
       "<Figure size 640x480 with 1 Axes>"
      ]
     },
     "metadata": {},
     "output_type": "display_data"
    }
   ],
   "source": [
    "import matplotlib.pyplot as plt \n",
    "# plt.hist(fluid_mesh.compute_cell_sizes())\n",
    "fluid_mesh = fluid_mesh.compute_cell_sizes()\n",
    "plt.hist(fluid_mesh['Volume']**(1/3), bins=30)#, range=(0, 0.01))\n",
    "delta_min = np.min(fluid_mesh['Volume'])**(1/3)\n",
    "print('Approx. smallest cell length: ' + str(delta_min))\n",
    "print('Approx. dt for CFL=1: ' + str(delta_min/100.)) "
   ]
  },
  {
   "cell_type": "code",
   "execution_count": null,
   "id": "cc86fbe6",
   "metadata": {},
   "outputs": [
    {
     "name": "stdout",
     "output_type": "stream",
     "text": [
      "Approx. smallest cell length: 0.008771565309665108\n",
      "Approx. dt for CFL=1: 8.771565309665108e-05\n"
     ]
    },
    {
     "data": {
      "image/png": "[encoded data removed]",
      "text/plain": [
       "<Figure size 640x480 with 1 Axes>"
      ]
     },
     "metadata": {},
     "output_type": "display_data"
    }
   ],
   "source": [
    "import matplotlib.pyplot as plt \n",
    "# plt.hist(fluid_mesh.compute_cell_sizes())\n",
    "fluid_mesh = fluid_mesh.compute_cell_sizes()\n",
    "plt.hist(fluid_mesh['Volume']**(1/3), bins=30)#, range=(0, 0.01))\n",
    "delta_min = np.min(fluid_mesh['Volume'])**(1/3)\n",
    "print('Approx. smallest cell length: ' + str(delta_min))\n",
    "print('Approx. dt for CFL=1: ' + str(delta_min/100.)) "
   ]
  },
  {
   "cell_type": "markdown",
   "id": "2e311535",
   "metadata": {},
   "source": [
    "# TRASH"
   ]
  },
  {
   "cell_type": "code",
   "execution_count": 7,
   "id": "8659d2f2",
   "metadata": {},
   "outputs": [],
   "source": [
    "# Define cylinder parameters\n",
    "h = 10.\n",
    "radius = 1. # Base inner radius\n",
    "t = 0.2 # Solid wall thickness\n",
    "\n",
    "# Define angular resolution\n",
    "n = 64\n",
    "theta = np.linspace(0, 2 * np.pi, n, endpoint=False)\n",
    "\n",
    "# Initialize cross sections\n",
    "N = 10 # Base number of cross sections\n",
    "N_ref = 100 # Number of refinement points (for spline)\n",
    "points_list = [] # Inner\n",
    "points_list_o = [] # Outer\n",
    "dx = h/N\n",
    "\n",
    "# Define modes\n",
    "num_modes = 4\n",
    "kmin = 2\n",
    "kmax = 8\n",
    "Amin = 0.\n",
    "Amax = 0.1\n",
    "\n",
    "# Random seed\n",
    "np.random.seed(42)\n",
    "\n",
    "for i in range(N):\n",
    "    r = radius\n",
    "    xloc = dx*i-h/2 # Center cylinder at (0,0,0)\n",
    "\n",
    "    for j in range(num_modes):\n",
    "        # Get random number\n",
    "        k = np.random.randint(kmin,kmax)\n",
    "        A = np.random.uniform(Amin,Amax)\n",
    "\n",
    "        # Define radial function r(θ)\n",
    "        r += A * np.cos(k*theta) # Multimodal noise\n",
    "\n",
    "    # Convert to Cartesian (x, y)\n",
    "    y,z = r * np.cos(theta), r * np.sin(theta)\n",
    "    yo,zo = (r+t) * np.cos(theta), (r+t) * np.sin(theta)\n",
    "\n",
    "    # x positions for shape\n",
    "    x = np.full_like(y, xloc)\n",
    "    xo = np.full_like(yo, xloc)\n",
    "\n",
    "    # Stack points\n",
    "    slice_points = np.column_stack([x,y,z])\n",
    "    slice_points_o = np.column_stack([xo,yo,zo])\n",
    "\n",
    "    # Add to list\n",
    "    points_list.append(slice_points)\n",
    "    points_list_o.append(slice_points_o)\n",
    "    \n",
    "\n",
    "# Combine all points\n",
    "points = np.vstack(points_list)\n",
    "points_o = np.vstack(points_list_o)\n",
    "\n",
    "# Create quad faces for the side\n",
    "faces = []\n",
    "faces_o = []\n",
    "for layer in range(N - 1):  # loop over layers\n",
    "    offset0 = layer * n\n",
    "    offset1 = (layer + 1) * n\n",
    "    for i in range(n):\n",
    "        i0 = offset0 + i\n",
    "        i1 = offset0 + (i + 1) % n\n",
    "        j1 = offset1 + (i + 1) % n\n",
    "        j0 = offset1 + i\n",
    "        faces.append([4, i0, i1, j1, j0])\n",
    "        faces_o.append([4, i0, i1, j1, j0])\n",
    "\n",
    "# Flatten face list\n",
    "faces = np.hstack(faces)\n",
    "wall = pv.PolyData(points, faces)\n",
    "faces_o = np.hstack(faces_o)\n",
    "wall_o = pv.PolyData(points_o, faces_o)\n",
    "\n",
    "# Inlet polygon\n",
    "inlet = pv.Polygon(center=(0,0,-0.5), radius=1.0, n_sides=n)\n",
    "inlet.points = points_list[0]  \n",
    "inlet = inlet.triangulate()\n",
    "inlet_o = pv.Polygon(center=(0,0,-0.5), radius=1.0, n_sides=n)\n",
    "inlet_o.points = points_list_o[0]  \n",
    "inlet_o = inlet_o.triangulate()\n",
    "\n",
    "# Outlet polygon\n",
    "outlet = pv.Polygon(center=(0,0,0.5), radius=1.0, n_sides=n)\n",
    "outlet.points = points_list[-1]\n",
    "outlet = outlet.triangulate()\n",
    "outlet_o = pv.Polygon(center=(0,0,0.5), radius=1.0, n_sides=n)\n",
    "outlet_o.points = points_list_o[-1]\n",
    "outlet_o = outlet_o.triangulate()\n",
    "\n",
    "# Solid wall inlet/outlet (annuli)\n",
    "points_solid_inlet = np.vstack([points_list[-1],points_list_o[-1]])\n",
    "points_solid_outlet = np.vstack([points_list[0],points_list_o[0]])\n",
    "faces_solid_inlet = []\n",
    "faces_solid_outlet = []\n",
    "for i in range(n):\n",
    "    # Indices\n",
    "    a0 = i\n",
    "    a1 = (i + 1) % n\n",
    "    b0 = i + n\n",
    "    b1 = ((i + 1) % n) + n\n",
    "\n",
    "    # Triangles for quad face between (a0, a1, b1, b0)\n",
    "    faces_solid_inlet.append([3, a0, a1, b1])\n",
    "    faces_solid_inlet.append([3, a0, b1, b0])\n",
    "    faces_solid_outlet.append([3, a0, a1, b1])\n",
    "    faces_solid_outlet.append([3, a0, b1, b0])\n",
    "\n",
    "faces_solid_inlet = np.array(faces_solid_inlet, dtype=np.int32).flatten()\n",
    "solid_inlet = pv.PolyData(points_solid_inlet,faces_solid_inlet)\n",
    "faces_solid_outlet = np.array(faces_solid_outlet, dtype=np.int32).flatten()\n",
    "solid_outlet = pv.PolyData(points_solid_outlet,faces_solid_outlet)\n",
    "\n",
    "# Label patches (doesn't do anything for now)\n",
    "inlet.cell_data['marker']=0\n",
    "outlet.cell_data['marker']=1\n",
    "wall.cell_data['marker']=2\n",
    "wall_o.cell_data['marker']=3\n",
    "solid_inlet.cell_data['marker']=4\n",
    "solid_outlet.cell_data['marker']=5\n",
    "\n",
    "# Merge everything\n",
    "fluid = wall.merge(inlet).merge(outlet)\n",
    "solid = wall.merge(solid_inlet).merge(solid_outlet).merge(wall_o)\n",
    "combined = wall.merge(inlet).merge(outlet).merge(solid_inlet).merge(solid_outlet).merge(wall_o)"
   ]
  },
  {
   "cell_type": "code",
   "execution_count": 10,
   "id": "e360aaaa",
   "metadata": {},
   "outputs": [],
   "source": [
    "\n",
    "# # Loft between contours\n",
    "# wall = None\n",
    "# wall_o = pv.PolyData()\n",
    "# for i in range(len(contours)-1):\n",
    "#     # # Loft between contours of inner wall\n",
    "#     # ruled = vtkRuledSurfaceFilter()\n",
    "#     # ruled.SetInputData(contours[i].merge(contours[i+1]))\n",
    "#     # ruled.SetRuledModeToResample()\n",
    "#     # ruled.SetResolution(n, 1)\n",
    "#     # ruled.Update()\n",
    "#     # loft = pv.wrap(ruled.GetOutput())\n",
    "#     # if wall is None:\n",
    "#     #     wall = loft.copy()\n",
    "#     # else:\n",
    "#     #     wall = wall.merge(loft)\n",
    "\n",
    "#     # Loft between contours of outer wall\n",
    "#     ruled = vtkRuledSurfaceFilter()\n",
    "#     ruled.SetInputData(contours_o[i].merge(contours_o[i+1]))\n",
    "#     ruled.SetRuledModeToResample()\n",
    "#     ruled.SetResolution(n, 1)\n",
    "#     ruled.Update()\n",
    "#     loft = pv.wrap(ruled.GetOutput())\n",
    "#     wall_o = wall_o.merge(loft)\n",
    "\n",
    "# # Loft between contours of inner wall\n",
    "# ruled = vtkRuledSurfaceFilter()\n",
    "# ruled.SetInputData(contours_combined)\n",
    "# ruled.SetRuledModeToResample()\n",
    "# ruled.SetResolution(n, 1)\n",
    "# ruled.Update()\n",
    "# wall = pv.wrap(ruled.GetOutput())"
   ]
  }
 ],
 "metadata": {
  "kernelspec": {
   "display_name": ".venv",
   "language": "python",
   "name": "python3"
  },
  "language_info": {
   "codemirror_mode": {
    "name": "ipython",
    "version": 3
   },
   "file_extension": ".py",
   "mimetype": "text/x-python",
   "name": "python",
   "nbconvert_exporter": "python",
   "pygments_lexer": "ipython3",
   "version": "3.12.3"
  }
 },
 "nbformat": 4,
 "nbformat_minor": 5
}
