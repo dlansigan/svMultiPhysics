{
 "cells": [
  {
   "cell_type": "code",
   "execution_count": 139,
   "id": "71dfa675",
   "metadata": {},
   "outputs": [],
   "source": [
    "import numpy as np\n",
    "import pyvista as pv\n",
    "import os"
   ]
  },
  {
   "cell_type": "code",
   "execution_count": null,
   "id": "771b2f3d",
   "metadata": {},
   "outputs": [],
   "source": [
    "# Define mesh path\n",
    "case_path = '/home/dana/Documents/SimVascular/svMultiPhysics/NoisyPipe/NP_0042/'\n",
    "mesh_path = case_path + 'mesh/'\n",
    "geom_path = case_path + 'geom/'\n",
    "pp_path = case_path + 'data/'\n",
    "pref = '4-procs/result'\n",
    "data_path = case_path + pref + '_100.vtu'\n",
    "\n",
    "# Load mesh\n",
    "f_vol = pv.read(mesh_path + \"fluid/mesh-complete.vtu\")\n",
    "spline = np.load(geom_path + \"spline.npy\")\n",
    "contours = np.load(geom_path + \"contours.npy\")\n",
    "mesh = pv.read(data_path)"
   ]
  },
  {
   "cell_type": "code",
   "execution_count": 218,
   "id": "84897e47",
   "metadata": {},
   "outputs": [
    {
     "data": {
      "application/vnd.jupyter.widget-view+json": {
       "model_id": "59a38879ecbb4e4faabb56e5e62a6afe",
       "version_major": 2,
       "version_minor": 0
      },
      "text/plain": [
       "Widget(value='<iframe src=\"http://localhost:45083/index.html?ui=P_0x76517ab5e510_103&reconnect=auto\" class=\"py…"
      ]
     },
     "metadata": {},
     "output_type": "display_data"
    }
   ],
   "source": [
    "# Create bounding box\n",
    "bbox = pv.Box((-5.5,5.5,-1.5,1.5,-1.5,1.5))\n",
    "cell_dimensions = np.array((64,32,32))\n",
    "bbox_v = bbox.voxelize(dimensions=cell_dimensions + 1)\n",
    "# bbox = mesh.voxelize(dimensions=cell_dimensions + 1)\n",
    "\n",
    "# Compute implicit distance\n",
    "bbox_d = bbox_v.compute_implicit_distance(mesh.extract_surface())\n",
    "bbox_d['implicit_distance']*=-1\n",
    "bbox_d = bbox_d.point_data_to_cell_data()\n",
    "# bbox_m = bbox_d + mesh\n",
    "# bbox_m = bbox_m.voxelize_binary_mask(dimensions=cell_dimensions + 1,\n",
    "                                    #  background_value=1,\n",
    "                                    #  foreground_value=0)\n",
    "bbox_m = bbox_d.copy()\n",
    "bbox_m.cell_data['mask'] = bbox_d.cell_data['implicit_distance']>0\n",
    "bbox_m = bbox_m.point_data_to_cell_data()\n",
    "\n",
    "b_clip = bbox_d.clip(normal='y',origin=[0,0,0])\n",
    "b_m_clip = bbox_m.clip(normal='y',origin=[0,0,0])\n",
    "\n",
    "dist = bbox_d.cell_data['implicit_distance']\n",
    "mask = bbox_m.cell_data['mask']\n",
    "\n",
    "# Interpolate results onto query points\n",
    "data_r = bbox_v.interpolate(mesh)\n",
    "\n",
    "# Plot\n",
    "pl = pv.Plotter(shape=(1,2))\n",
    "pl.subplot(0,0)\n",
    "# pl.add_mesh(bbox,opacity=0.3,color='lightblue')\n",
    "# pl.add_mesh(f_vol, style='wireframe',color='lightblue')\n",
    "pl.add_mesh(b_clip,scalars='implicit_distance',cmap='bwr',clim=[-1,1])\n",
    "# pl.add_points(spline,color='red')\n",
    "# for contour in contours:\n",
    "#     pl.add_points(contour,color='red')\n",
    "pl.camera_position='zx'\n",
    "pl.subplot(0,1)\n",
    "# pl.add_mesh(f_vol, style='wireframe',color='lightblue',opacity=0.3)\n",
    "pl.add_mesh(b_m_clip,scalars='mask',interpolate_before_map=False,cmap='bwr')\n",
    "pl.camera_position='zx'\n",
    "pl.show()"
   ]
  },
  {
   "cell_type": "code",
   "execution_count": 219,
   "id": "5264597d",
   "metadata": {},
   "outputs": [],
   "source": [
    "data_pv = data_r.copy()\n",
    "\n",
    "scalar_names = ['Pressure', 'Divergence', 'magU', 'u', 'v', 'w', 'magW', 'magWSS']\n",
    "\n",
    "# Pressure\n",
    "data_pv['Pressure'] = data_pv.point_data['Pressure']\n",
    "\n",
    "# Divergence\n",
    "data_pv['Divergence'] = data_pv.point_data['Divergence']\n",
    "\n",
    "# Magnitude of velocity\n",
    "u = data_pv.point_data['Velocity']\n",
    "magU = np.linalg.norm(u,axis=1)\n",
    "data_pv['magU'] = magU\n",
    "\n",
    "# u, v, w\n",
    "data_pv['u'] = u[:,0]\n",
    "data_pv['v'] = u[:,1]\n",
    "data_pv['w'] = u[:,2]\n",
    "\n",
    "# Magnitude of vorticity\n",
    "w = data_pv.point_data['Vorticity']\n",
    "magW = np.linalg.norm(w,axis=1)\n",
    "data_pv['magW'] = magW\n",
    "\n",
    "# Magnitude of WSS\n",
    "WSS = data_pv.point_data['WSS']\n",
    "magWSS = np.linalg.norm(WSS,axis=1)\n",
    "data_pv['magWSS'] = magWSS\n",
    "\n",
    "data_pv = data_pv.point_data_to_cell_data()\n",
    "\n",
    "for scalar in scalar_names:\n",
    "    data_pv.cell_data[scalar][mask] = np.nan"
   ]
  },
  {
   "cell_type": "code",
   "execution_count": 220,
   "id": "4b2bd831",
   "metadata": {},
   "outputs": [
    {
     "data": {
      "application/vnd.jupyter.widget-view+json": {
       "model_id": "3c301848cd13464095409a4c1220ac01",
       "version_major": 2,
       "version_minor": 0
      },
      "text/plain": [
       "Widget(value='<iframe src=\"http://localhost:45083/index.html?ui=P_0x76514f9755b0_104&reconnect=auto\" class=\"py…"
      ]
     },
     "metadata": {},
     "output_type": "display_data"
    }
   ],
   "source": [
    "# Plot data\n",
    "pl = pv.Plotter()\n",
    "pl.add_mesh(data_pv.clip(normal='y',origin=[0,0,0]),scalars = 'magU',clim=[0,20])\n",
    "pl.camera_position='zx'\n",
    "pl.show()"
   ]
  },
  {
   "cell_type": "code",
   "execution_count": 240,
   "id": "047b6976",
   "metadata": {},
   "outputs": [
    {
     "data": {
      "text/plain": [
       "(1, 65536, 4)"
      ]
     },
     "execution_count": 240,
     "metadata": {},
     "output_type": "execute_result"
    }
   ],
   "source": [
    "# Assemble coords array\n",
    "dist = dist.reshape((-1,1))\n",
    "mask = mask.reshape((-1,1))\n",
    "coords = np.hstack([bbox_v.cell_centers().points,dist,mask])\n",
    "\n",
    "# Assemble data array\n",
    "data = np.dstack([data_pv.cell_data['u'],#.reshape((-1,1)),\n",
    "                    data_pv.cell_data['v'],#.reshape((-1,1)),\n",
    "                    data_pv.cell_data['w'],#.reshape((-1,1)),\n",
    "                    data_pv.cell_data['Pressure']#.reshape((-1,1))\n",
    "                    ])\n",
    "\n",
    "# Create directories if they don't exist\n",
    "os.makedirs(coords_path, exist_ok=True)\n",
    "np.save(coords_path + 'coords.npy',coords)\n",
    "\n",
    "data.shape"
   ]
  },
  {
   "cell_type": "code",
   "execution_count": null,
   "id": "14a4a38b",
   "metadata": {},
   "outputs": [
    {
     "data": {
      "text/plain": [
       "(2, 65536, 4)"
      ]
     },
     "execution_count": 244,
     "metadata": {},
     "output_type": "execute_result"
    }
   ],
   "source": [
    "coords = np.load(data_path + 'coords.npy')\n",
    "data = np.load(data_path + 'data.npy')"
   ]
  }
 ],
 "metadata": {
  "kernelspec": {
   "display_name": "my_env",
   "language": "python",
   "name": "python3"
  },
  "language_info": {
   "codemirror_mode": {
    "name": "ipython",
    "version": 3
   },
   "file_extension": ".py",
   "mimetype": "text/x-python",
   "name": "python",
   "nbconvert_exporter": "python",
   "pygments_lexer": "ipython3",
   "version": "3.12.3"
  }
 },
 "nbformat": 4,
 "nbformat_minor": 5
}
