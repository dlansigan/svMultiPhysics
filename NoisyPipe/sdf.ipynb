{
 "cells": [
  {
   "cell_type": "code",
   "execution_count": 84,
   "id": "71dfa675",
   "metadata": {},
   "outputs": [],
   "source": [
    "import numpy as np\n",
    "import pyvista as pv\n",
    "import os"
   ]
  },
  {
   "cell_type": "code",
   "execution_count": 85,
   "id": "771b2f3d",
   "metadata": {},
   "outputs": [],
   "source": [
    "# Define mesh path\n",
    "case_path = '/home/dana/Documents/SimVascular/svMultiPhysics/NoisyPipe/NP_0042/'\n",
    "mesh_path = case_path + 'mesh/'\n",
    "geom_path = case_path + 'geom/'\n",
    "pp_path = case_path + 'data/'\n",
    "pref = '4-procs/result'\n",
    "data_path = case_path + pref + '_100.vtu'\n",
    "\n",
    "# Load mesh\n",
    "f_vol = pv.read(mesh_path + \"fluid/mesh-complete.vtu\")\n",
    "spline = np.load(geom_path + \"spline.npy\")\n",
    "contours = np.load(geom_path + \"contours.npy\")\n",
    "mesh = pv.read(data_path)"
   ]
  },
  {
   "cell_type": "code",
   "execution_count": null,
   "id": "84897e47",
   "metadata": {},
   "outputs": [
    {
     "data": {
      "application/vnd.jupyter.widget-view+json": {
       "model_id": "709c3357e4d74f50a6481c823f772837",
       "version_major": 2,
       "version_minor": 0
      },
      "text/plain": [
       "Widget(value='<iframe src=\"http://localhost:33577/index.html?ui=P_0x7b09987059d0_17&reconnect=auto\" class=\"pyv…"
      ]
     },
     "metadata": {},
     "output_type": "display_data"
    },
    {
     "ename": "",
     "evalue": "",
     "output_type": "error",
     "traceback": [
      "\u001b[1;31mThe Kernel crashed while executing code in the current cell or a previous cell. \n",
      "\u001b[1;31mPlease review the code in the cell(s) to identify a possible cause of the failure. \n",
      "\u001b[1;31mClick <a href='https://aka.ms/vscodeJupyterKernelCrash'>here</a> for more info. \n",
      "\u001b[1;31mView Jupyter <a href='command:jupyter.viewOutput'>log</a> for further details."
     ]
    }
   ],
   "source": [
    "# Create bounding box\n",
    "bbox = pv.Box((-4.5,4.5,-1.5,1.5,-1.5,1.5))\n",
    "cell_dimensions = np.array((100,20,20))\n",
    "bbox_v = bbox.voxelize(dimensions=cell_dimensions + 1)\n",
    "# bbox = mesh.voxelize(dimensions=cell_dimensions + 1)\n",
    "\n",
    "# Compute implicit distance\n",
    "bbox_d = bbox_v.compute_implicit_distance(mesh.extract_surface())\n",
    "# bbox_d['implicit_distance']*=-1\n",
    "bbox_d = bbox_d.point_data_to_cell_data()\n",
    "# bbox_m = bbox_d + mesh\n",
    "# bbox_m = bbox_m.voxelize_binary_mask(dimensions=cell_dimensions + 1,\n",
    "                                    #  background_value=1,\n",
    "                                    #  foreground_value=0)\n",
    "bbox_m = bbox_d.copy()\n",
    "bbox_m.cell_data['mask'] = bbox_d.cell_data['implicit_distance']>0\n",
    "bbox_m = bbox_m.point_data_to_cell_data()\n",
    "\n",
    "b_clip = bbox_d.clip(normal='y',origin=[0,0,0])\n",
    "b_m_clip = bbox_m.clip(normal='y',origin=[0,0,0])\n",
    "\n",
    "dist = bbox_d.cell_data['implicit_distance']\n",
    "mask = bbox_m.cell_data['mask']\n",
    "\n",
    "# Interpolate results onto query points\n",
    "data_r = bbox_v.interpolate(mesh)\n",
    "\n",
    "# Plot\n",
    "pl = pv.Plotter(shape=(1,2))\n",
    "pl.subplot(0,0)\n",
    "# pl.add_mesh(bbox,opacity=0.3,color='lightblue')\n",
    "# pl.add_mesh(f_vol, style='wireframe',color='lightblue')\n",
    "pl.add_mesh(b_clip,scalars='implicit_distance',cmap='bwr',clim=[-1,1])\n",
    "# pl.add_points(spline,color='red')\n",
    "# for contour in contours:\n",
    "#     pl.add_points(contour,color='red')\n",
    "pl.camera_position='zx'\n",
    "pl.subplot(0,1)\n",
    "# pl.add_mesh(f_vol, style='wireframe',color='lightblue',opacity=0.3)\n",
    "pl.add_mesh(b_m_clip,scalars='mask',interpolate_before_map=False,cmap='bwr')\n",
    "pl.camera_position='zx'\n",
    "pl.show()"
   ]
  },
  {
   "cell_type": "code",
   "execution_count": 65,
   "id": "a5fcb6a9",
   "metadata": {},
   "outputs": [
    {
     "data": {
      "text/plain": [
       "pyvista_ndarray([[-1.,  0.,  0.],\n",
       "                 [ 1.,  0.,  0.],\n",
       "                 [ 0., -1.,  0.],\n",
       "                 [ 0.,  1.,  0.],\n",
       "                 [ 0.,  0., -1.],\n",
       "                 [ 0.,  0.,  1.]])"
      ]
     },
     "execution_count": 65,
     "metadata": {},
     "output_type": "execute_result"
    }
   ],
   "source": [
    "points/max_val"
   ]
  },
  {
   "cell_type": "code",
   "execution_count": 70,
   "id": "e051b28b",
   "metadata": {},
   "outputs": [
    {
     "data": {
      "application/vnd.jupyter.widget-view+json": {
       "model_id": "6013f205ee3d4664b1f563190738ac8c",
       "version_major": 2,
       "version_minor": 0
      },
      "text/plain": [
       "Widget(value='<iframe src=\"http://localhost:33577/index.html?ui=P_0x7b0a93e39010_8&reconnect=auto\" class=\"pyvi…"
      ]
     },
     "metadata": {},
     "output_type": "display_data"
    },
    {
     "data": {
      "text/html": [
       "\n",
       "<table style='width: 100%;'>\n",
       "<tr><th>PolyData</th><th>Information</th></tr>\n",
       "<tr><td>N Cells</td><td>6</td></tr>\n",
       "<tr><td>N Points</td><td>6</td></tr>\n",
       "<tr><td>N Strips</td><td>0</td></tr>\n",
       "<tr><td>X Bounds</td><td>0.000e+00, 1.000e+00</td></tr>\n",
       "<tr><td>Y Bounds</td><td>0.000e+00, 1.000e+00</td></tr>\n",
       "<tr><td>Z Bounds</td><td>0.000e+00, 1.000e+00</td></tr>\n",
       "<tr><td>N Arrays</td><td>0</td></tr>\n",
       "</table>\n",
       "\n"
      ],
      "text/plain": [
       "PolyData (0x7b09931d1ba0)\n",
       "  N Cells:    6\n",
       "  N Points:   6\n",
       "  N Strips:   0\n",
       "  X Bounds:   0.000e+00, 1.000e+00\n",
       "  Y Bounds:   0.000e+00, 1.000e+00\n",
       "  Z Bounds:   0.000e+00, 1.000e+00\n",
       "  N Arrays:   0"
      ]
     },
     "execution_count": 70,
     "metadata": {},
     "output_type": "execute_result"
    }
   ],
   "source": [
    "\n",
    "bbox_n = bbox.copy()\n",
    "points = bbox.points\n",
    "max_val = np.max(points,axis=0)\n",
    "min_val = np.min(points,axis=0)\n",
    "bbox_n.points = (points-min_val)/(max_val-min_val) # Normalize to (0,1)\n",
    "# bbox_n.points = points/max_val # Normalize to (0,1)\n",
    "\n",
    "bbox_n.plot()\n",
    "bbox_n.cell_centers()"
   ]
  },
  {
   "cell_type": "code",
   "execution_count": null,
   "id": "5264597d",
   "metadata": {},
   "outputs": [],
   "source": [
    "data_pv = data_r.copy()\n",
    "\n",
    "scalar_names = ['Pressure', 'Divergence', 'magU', 'u', 'v', 'w', 'magW', 'magWSS']\n",
    "\n",
    "# Pressure\n",
    "data_pv['Pressure'] = data_pv.point_data['Pressure']\n",
    "\n",
    "# Divergence\n",
    "data_pv['Divergence'] = data_pv.point_data['Divergence']\n",
    "\n",
    "# Magnitude of velocity\n",
    "u = data_pv.point_data['Velocity']\n",
    "magU = np.linalg.norm(u,axis=1)\n",
    "data_pv['magU'] = magU\n",
    "\n",
    "# u, v, w\n",
    "data_pv['u'] = u[:,0]\n",
    "data_pv['v'] = u[:,1]\n",
    "data_pv['w'] = u[:,2]\n",
    "\n",
    "# Magnitude of vorticity\n",
    "w = data_pv.point_data['Vorticity']\n",
    "magW = np.linalg.norm(w,axis=1)\n",
    "data_pv['magW'] = magW\n",
    "\n",
    "# Magnitude of WSS\n",
    "WSS = data_pv.point_data['WSS']\n",
    "magWSS = np.linalg.norm(WSS,axis=1)\n",
    "data_pv['magWSS'] = magWSS\n",
    "\n",
    "data_pv = data_pv.point_data_to_cell_data()\n",
    "\n",
    "for scalar in scalar_names:\n",
    "    data_pv.cell_data[scalar][mask] = np.nan"
   ]
  },
  {
   "cell_type": "code",
   "execution_count": 220,
   "id": "4b2bd831",
   "metadata": {},
   "outputs": [
    {
     "data": {
      "application/vnd.jupyter.widget-view+json": {
       "model_id": "3c301848cd13464095409a4c1220ac01",
       "version_major": 2,
       "version_minor": 0
      },
      "text/plain": [
       "Widget(value='<iframe src=\"http://localhost:45083/index.html?ui=P_0x76514f9755b0_104&reconnect=auto\" class=\"py…"
      ]
     },
     "metadata": {},
     "output_type": "display_data"
    }
   ],
   "source": [
    "# Plot data\n",
    "pl = pv.Plotter()\n",
    "pl.add_mesh(data_pv.clip(normal='y',origin=[0,0,0]),scalars = 'magU',clim=[0,20])\n",
    "pl.camera_position='zx'\n",
    "pl.show()"
   ]
  },
  {
   "cell_type": "code",
   "execution_count": null,
   "id": "047b6976",
   "metadata": {},
   "outputs": [
    {
     "data": {
      "text/plain": [
       "(65536, 5)"
      ]
     },
     "execution_count": 252,
     "metadata": {},
     "output_type": "execute_result"
    }
   ],
   "source": [
    "# Assemble coords array\n",
    "dist = dist.reshape((-1,1))\n",
    "mask = mask.reshape((-1,1))\n",
    "coords = np.hstack([bbox_v.cell_centers().points,dist,mask])\n",
    "\n",
    "# Assemble data array\n",
    "data = np.dstack([data_pv.cell_data['u'],#.reshape((-1,1)),\n",
    "                    data_pv.cell_data['v'],#.reshape((-1,1)),\n",
    "                    data_pv.cell_data['w'],#.reshape((-1,1)),\n",
    "                    data_pv.cell_data['Pressure']#.reshape((-1,1))\n",
    "                    ])\n",
    "\n",
    "# Create directories if they don't exist\n",
    "# os.makedirs(coords_path, exist_ok=True)\n",
    "# np.save(coords_path + 'coords.npy',coords)\n",
    "\n",
    "coords.shape"
   ]
  },
  {
   "cell_type": "code",
   "execution_count": 51,
   "id": "14a4a38b",
   "metadata": {},
   "outputs": [
    {
     "data": {
      "text/plain": [
       "-1"
      ]
     },
     "execution_count": 51,
     "metadata": {},
     "output_type": "execute_result"
    }
   ],
   "source": [
    "num_geoms = 40\n",
    "geom_ids = np.arange(num_geoms)\n",
    "geom_ids = np.repeat(geom_ids,data.shape[0]//num_geoms)\n",
    "# geom_ids = np.reshape(geom_ids,(-1,))\n",
    "# geom_ids = np.repeat(geom_ids,data.shape[1],axis=1)\n",
    "geom_ids.shape\n",
    "test=torch.tensor([1])\n",
    "test.get_device()"
   ]
  },
  {
   "cell_type": "code",
   "execution_count": 83,
   "id": "1c01bd34",
   "metadata": {},
   "outputs": [
    {
     "data": {
      "application/vnd.jupyter.widget-view+json": {
       "model_id": "d2ee763c4329477bba0b5293f4670932",
       "version_major": 2,
       "version_minor": 0
      },
      "text/plain": [
       "Widget(value='<iframe src=\"http://localhost:33577/index.html?ui=P_0x7b0990964650_16&reconnect=auto\" class=\"pyv…"
      ]
     },
     "metadata": {},
     "output_type": "display_data"
    }
   ],
   "source": [
    "data = np.load('postprocessed_data/NP_data/data.npy')\n",
    "coords = np.load('postprocessed_data/NP_data/coords.npy')\n",
    "coords_o = np.load('postprocessed_data/NP_data/coords_o.npy')\n",
    "sdf = np.load('postprocessed_data/NP_data/sdf.npy')\n",
    "sdf_o = np.load('postprocessed_data/NP_data/sdf_o.npy')\n",
    "sdf_o = np.squeeze(sdf_o)\n",
    "\n",
    "tidx = 20\n",
    "data_o = data[tidx,:,:] # original\n",
    "\n",
    "# Reshape for StructuredGrid\n",
    "mesh_d = pv.StructuredGrid()\n",
    "mesh_d.points = coords_o\n",
    "mesh_d.dimensions = (100, 20, 20)  \n",
    "mesh_o = mesh_d.copy()\n",
    "\n",
    "# Add scalar field\n",
    "mesh_o['u'] = data_o[:,0]\n",
    "mesh_o['v'] = data_o[:,1]\n",
    "mesh_o['w'] = data_o[:,2]\n",
    "mesh_o['p'] = data_o[:,3]\n",
    "mesh_o['p'] = mesh_o['p']/np.maximum(mesh_o['p'],5e4)\n",
    "pmin = np.min(mesh_o['p'][mesh_o['p']!=0])\n",
    "pmax = np.max(mesh_o['p'][mesh_o['p']!=0])\n",
    "mesh_o['g'] = sdf_o\n",
    "mesh_o['m'] = sdf_o>0\n",
    "mesh_o = mesh_o.clip('y')\n",
    "\n",
    "# Define scalar and value ranges\n",
    "scalar = 'p'\n",
    "clim_dict = {\n",
    "    'u': (0,10),\n",
    "    'v': (0,1),\n",
    "    'w': (0,1),\n",
    "    'p': (pmin,pmax),\n",
    "    'g': (-1,1),\n",
    "    'm': (0,1),\n",
    "}\n",
    "\n",
    "# Visualize\n",
    "pl = pv.Plotter()\n",
    "pl.add_mesh(mesh_o, scalars=scalar,\n",
    "            clim=clim_dict[scalar]\n",
    "            # show_edges=True\n",
    "            )\n",
    "pl.camera_position='zx'\n",
    "pl.show()\n"
   ]
  },
  {
   "cell_type": "code",
   "execution_count": null,
   "id": "c69376a9",
   "metadata": {},
   "outputs": [],
   "source": []
  }
 ],
 "metadata": {
  "kernelspec": {
   "display_name": "my_env",
   "language": "python",
   "name": "python3"
  },
  "language_info": {
   "codemirror_mode": {
    "name": "ipython",
    "version": 3
   },
   "file_extension": ".py",
   "mimetype": "text/x-python",
   "name": "python",
   "nbconvert_exporter": "python",
   "pygments_lexer": "ipython3",
   "version": "3.12.3"
  }
 },
 "nbformat": 4,
 "nbformat_minor": 5
}
