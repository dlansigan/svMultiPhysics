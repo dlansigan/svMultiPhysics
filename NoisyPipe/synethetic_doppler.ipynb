{
 "cells": [
  {
   "cell_type": "code",
   "execution_count": 1,
   "id": "ade5d110",
   "metadata": {},
   "outputs": [],
   "source": [
    "import numpy as np\n",
    "import pyvista as pv\n",
    "import os"
   ]
  },
  {
   "cell_type": "code",
   "execution_count": null,
   "id": "a85e7fae",
   "metadata": {},
   "outputs": [
    {
     "data": {
      "application/vnd.jupyter.widget-view+json": {
       "model_id": "66579b1e5d2044a28ba866ba078a4636",
       "version_major": 2,
       "version_minor": 0
      },
      "text/plain": [
       "Widget(value='<iframe src=\"http://localhost:33135/index.html?ui=P_0x7790e9cbf5c0_25&reconnect=auto\" class=\"pyv…"
      ]
     },
     "metadata": {},
     "output_type": "display_data"
    }
   ],
   "source": [
    "sim=0\n",
    "data = np.load('postprocessed_data/NP_data/data.npy')\n",
    "coords = np.load('postprocessed_data/NP_data/coords.npy')\n",
    "coords_o = np.load('postprocessed_data/NP_data/coords_o.npy')\n",
    "sdf = np.load('postprocessed_data/NP_data/sdf.npy')\n",
    "sdf_o = np.load('postprocessed_data/NP_data/sdf_o.npy')\n",
    "sdf_o = sdf_o[sim,:,:]\n",
    "\n",
    "tidx = 20\n",
    "data_o = data[tidx,:,:] # original\n",
    "\n",
    "# Reshape for StructuredGrid\n",
    "mesh_o = pv.StructuredGrid()\n",
    "mesh_o.points = coords_o\n",
    "mesh_o.dimensions = (200, 40, 40)  \n",
    "\n",
    "# Add scalar field\n",
    "mesh_o['u'] = data_o[:,0]\n",
    "mesh_o['v'] = data_o[:,1]\n",
    "mesh_o['w'] = data_o[:,2]\n",
    "mesh_o['p'] = data_o[:,3]\n",
    "# mesh_o['p'] = mesh_o['p']/np.maximum(mesh_o['p'],5e4)\n",
    "mesh_o['g'] = sdf_o\n",
    "mesh_o['m'] = sdf_o>0\n",
    "\n",
    "# Create sampling box\n",
    "bounds = [-1, 1, -0.5, 0.5, -0.5, 0.5]\n",
    "\n",
    "# Extract coordinates of all points in the mesh\n",
    "points = mesh_o.points\n",
    "\n",
    "# Create a mask for points inside the box\n",
    "mask = (\n",
    "    (points[:, 0] >= bounds[0]) & (points[:, 0] <= bounds[1]) &\n",
    "    (points[:, 1] >= bounds[2]) & (points[:, 1] <= bounds[3]) &\n",
    "    (points[:, 2] >= bounds[4]) & (points[:, 2] <= bounds[5])\n",
    ")\n",
    "\n",
    "# Get the indices of the points within the box\n",
    "ids = np.where(mask)[0]\n",
    "\n",
    "# Extract point data and create a new point cloud mesh\n",
    "# sampled_data = mesh_o.extract_points(ids)\n",
    "sample_x = mesh_o.points[mask]\n",
    "sample_u = mesh_o['u'][mask]\n",
    "sample_v = mesh_o['v'][mask]\n",
    "sample_w = mesh_o['w'][mask]\n",
    "sample_p = mesh_o['p'][mask]\n",
    "sample_data = pv.PolyData(sample_x)\n",
    "sample_data['u'] = sample_u\n",
    "sample_data['v'] = sample_v\n",
    "sample_data['w'] = sample_w\n",
    "sample_data['p'] = sample_p\n",
    "\n",
    "# Normalize\n",
    "# for scalar in mesh_o.array_names:\n",
    "#     if scalar != 'g' or scalar !='m':\n",
    "#         mesh_o[scalar] = mesh_o[scalar]/np.max(np.abs(mesh_o[scalar]))#*mesh_o['m'] \n",
    "\n",
    "# Define scalar and value ranges\n",
    "scalar = 'u'\n",
    "clim_dict = {\n",
    "    'u': (-1,1),\n",
    "    'v': (-1,1),\n",
    "    'w': (-1,1),\n",
    "    'p': (-1,1),\n",
    "    'g': (-1,1),\n",
    "    'm': (0,1),\n",
    "}\n",
    "\n",
    "# # Define the start and end points of line\n",
    "# start_point = [-4, -2, 0]\n",
    "# end_point = [4, 2, 0]\n",
    "\n",
    "# # Sample the data from the dataset onto the line\n",
    "# sampled_data = mesh_o.sample_over_line(start_point,end_point,resolution=20)\n",
    "\n",
    "# Clip for vis\n",
    "mesh_o = mesh_o.clip('y')\n",
    "\n",
    "# Visualize\n",
    "pl = pv.Plotter()\n",
    "pl.add_mesh(mesh_o, scalars=scalar,\n",
    "            # clim=clim_dict[scalar],\n",
    "            opacity=0.3\n",
    "            # show_edges=True\n",
    "            )\n",
    "pl.add_mesh(sample_data, scalars=scalar, style='points')\n",
    "pl.camera_position='zx'\n",
    "pl.show()\n"
   ]
  },
  {
   "cell_type": "code",
   "execution_count": 71,
   "id": "94aa6097",
   "metadata": {},
   "outputs": [],
   "source": [
    "# Save\n",
    "np.save('postprocessed_data/NP_data/doppler_x.npy',np.array(sample_x))\n",
    "np.save('postprocessed_data/NP_data/doppler_u.npy',np.array(sample_u))\n",
    "np.save('postprocessed_data/NP_data/doppler_v.npy',np.array(sample_v))\n",
    "np.save('postprocessed_data/NP_data/doppler_w.npy',np.array(sample_w))\n",
    "np.save('postprocessed_data/NP_data/doppler_p.npy',np.array(sample_p))"
   ]
  }
 ],
 "metadata": {
  "kernelspec": {
   "display_name": "my_env",
   "language": "python",
   "name": "python3"
  },
  "language_info": {
   "codemirror_mode": {
    "name": "ipython",
    "version": 3
   },
   "file_extension": ".py",
   "mimetype": "text/x-python",
   "name": "python",
   "nbconvert_exporter": "python",
   "pygments_lexer": "ipython3",
   "version": "3.12.3"
  }
 },
 "nbformat": 4,
 "nbformat_minor": 5
}
