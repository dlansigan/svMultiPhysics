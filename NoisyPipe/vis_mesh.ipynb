{
 "cells": [
  {
   "cell_type": "code",
   "execution_count": 35,
   "id": "409361ee",
   "metadata": {},
   "outputs": [],
   "source": [
    "import pyvista as pv\n",
    "import numpy as np\n",
    "from scipy.interpolate import make_interp_spline\n",
    "pv.set_jupyter_backend('client')\n",
    "from generate_noisy_pipe import *"
   ]
  },
  {
   "cell_type": "markdown",
   "id": "3be393e2",
   "metadata": {},
   "source": [
    "# Noisy cylinder"
   ]
  },
  {
   "cell_type": "code",
   "execution_count": 36,
   "id": "d732705e",
   "metadata": {},
   "outputs": [],
   "source": [
    "# Define mesh path\n",
    "case_path = '/home/dana/Documents/SimVascular/svMultiPhysics/NoisyPipe/NP_0000_sten/'\n",
    "mesh_path = case_path + 'mesh/'\n",
    "geom_path = case_path + 'geom/'"
   ]
  },
  {
   "cell_type": "code",
   "execution_count": 37,
   "id": "cb4b5946",
   "metadata": {},
   "outputs": [
    {
     "data": {
      "application/vnd.jupyter.widget-view+json": {
       "model_id": "ef12c2c21f8e43f1a3ace1979700757d",
       "version_major": 2,
       "version_minor": 0
      },
      "text/plain": [
       "Widget(value='<iframe src=\"http://localhost:46119/index.html?ui=P_0x75c1c8a52c90_18&reconnect=auto\" class=\"pyv…"
      ]
     },
     "metadata": {},
     "output_type": "display_data"
    },
    {
     "name": "stdout",
     "output_type": "stream",
     "text": [
      "Fluid manifold? True\n",
      "Solid manifold? True\n"
     ]
    }
   ],
   "source": [
    "# Load geometry files\n",
    "fluid = pv.read(geom_path + \"fluid.vtp\")\n",
    "solid = pv.read(geom_path + \"solid.vtp\")\n",
    "combined = pv.read(geom_path + \"combined.vtp\")\n",
    "\n",
    "# Visualize\n",
    "pl = pv.Plotter()\n",
    "pl.add_mesh(combined, cmap='tab10')#,show_edges=True)\n",
    "pl.show()\n",
    "print('Fluid manifold?', fluid.is_manifold)\n",
    "print('Solid manifold?', solid.is_manifold)"
   ]
  },
  {
   "cell_type": "code",
   "execution_count": null,
   "id": "5da05c9a",
   "metadata": {},
   "outputs": [
    {
     "data": {
      "application/vnd.jupyter.widget-view+json": {
       "model_id": "9881284e0e1b448983c1c7fb3aba6af4",
       "version_major": 2,
       "version_minor": 0
      },
      "text/plain": [
       "Widget(value='<iframe src=\"http://localhost:46119/index.html?ui=P_0x75c1f0caeb40_23&reconnect=auto\" class=\"pyv…"
      ]
     },
     "metadata": {},
     "output_type": "display_data"
    },
    {
     "data": {
      "application/vnd.jupyter.widget-view+json": {
       "model_id": "67b425d6ddea4936bed9c6bd4264bce2",
       "version_major": 2,
       "version_minor": 0
      },
      "text/plain": [
       "Widget(value='<iframe src=\"http://localhost:46119/index.html?ui=P_0x75c1f0cae990_24&reconnect=auto\" class=\"pyv…"
      ]
     },
     "metadata": {},
     "output_type": "display_data"
    }
   ],
   "source": [
    "# Load fluid\n",
    "f_vol = pv.read(mesh_path + \"fluid/mesh-complete.vtu\")\n",
    "f_inlet = pv.read(mesh_path + \"fluid/mesh-surfaces/inlet.vtp\")\n",
    "f_outlet = pv.read(mesh_path + \"fluid/mesh-surfaces/outlet.vtp\")\n",
    "f_interface = pv.read(mesh_path + \"fluid/mesh-surfaces/interface.vtp\")\n",
    "f_vol_c = f_vol.clip(normal='y',origin=(0,0,0),invert=True)\n",
    "f_inlet = f_inlet.clip(normal='y',origin=(0,0,0),invert=True)\n",
    "f_outlet = f_outlet.clip(normal='y',origin=(0,0,0),invert=True)\n",
    "f_interface = f_interface.clip(normal='y',origin=(0,0,0),invert=True)\n",
    "\n",
    "# Load solid\n",
    "s_vol = pv.read(mesh_path + \"solid/mesh-complete.vtu\")\n",
    "s_inlet = pv.read(mesh_path + \"solid/mesh-surfaces/inlet.vtp\")\n",
    "s_outlet = pv.read(mesh_path + \"solid/mesh-surfaces/outlet.vtp\")\n",
    "s_interface = pv.read(mesh_path + \"solid/mesh-surfaces/interface.vtp\")\n",
    "s_outside = pv.read(mesh_path + \"solid/mesh-surfaces/outside.vtp\")\n",
    "s_vol_c = s_vol.clip(normal='y',origin=(0,0,0),invert=True)\n",
    "s_inlet = s_inlet.clip(normal='y',origin=(0,0,0),invert=True)\n",
    "s_outlet = s_outlet.clip(normal='y',origin=(0,0,0),invert=True)\n",
    "s_interface = s_interface.clip(normal='y',origin=(0,0,0),invert=True)\n",
    "s_outside = s_outside.clip(normal='y',origin=(0,0,0),invert=True)\n",
    "\n",
    "# Some camera stuff\n",
    "cam = [(0,10,0),(0,0,0),(0,0,1)]#[(13,3,3),(3,0,0),(0,0,1)]\n",
    "cam2 = [(0,25,0),(0,0,0),(0,0,1)]\n",
    "\n",
    "plotter1 = pv.Plotter(shape=(1,2),off_screen=True)\n",
    "# Volume mesh\n",
    "plotter1.subplot(0,0)\n",
    "plotter1.camera_position = cam\n",
    "plotter1.add_mesh(f_vol_c, color='cyan', edge_opacity=0.5, show_edges=True) # Fluid\n",
    "plotter1.add_mesh(s_vol_c, color='magenta', edge_opacity=0.5, show_edges=True) # Solid\n",
    "plotter1.add_text(\"Volume Mesh\", font_size=12)\n",
    "plotter1.add_axes()\n",
    "# Surface meshes\n",
    "plotter1.subplot(0,1)\n",
    "plotter1.camera_position = cam\n",
    "# Fluid\n",
    "plotter1.add_mesh(f_inlet, color='cyan', opacity=0.5, edge_opacity=0.5, show_edges=True)\n",
    "plotter1.add_mesh(f_outlet, color='magenta', opacity=0.5, edge_opacity=0.5, show_edges=True)\n",
    "plotter1.add_mesh(f_interface, color='green', edge_opacity=0.5, show_edges=True)\n",
    "# Solid\n",
    "plotter1.add_mesh(s_inlet, color='cyan', edge_opacity=0.5, show_edges=True)\n",
    "plotter1.add_mesh(s_outlet, color='magenta', edge_opacity=0.5, show_edges=True)\n",
    "plotter1.add_mesh(s_outside, color='red', edge_opacity=0.5, show_edges=True)\n",
    "plotter1.add_text(\"Surface Mesh\", font_size=12)\n",
    "plotter1.add_axes()\n",
    "plotter1.show()\n",
    "# plotter1.save_graphic('mesh.eps')\n",
    "\n",
    "plotter2 = pv.Plotter(shape=(1,2))\n",
    "# Whole geometries\n",
    "plotter2.subplot(0,0)\n",
    "plotter2.camera_position = cam2\n",
    "plotter2.add_mesh(f_vol_c, color='cyan', opacity=0.5, show_edges=False) # Fluid\n",
    "plotter2.add_mesh(s_vol_c, color='magenta', opacity=0.5, show_edges=False) # Solid\n",
    "plotter2.add_axes()\n",
    "plotter2.subplot(0,1)\n",
    "plotter2.add_mesh(f_vol, color='cyan', opacity=0.5, show_edges=False) # Fluid\n",
    "plotter2.add_mesh(s_vol, color='magenta', opacity=0.5, show_edges=False) # Solid\n",
    "plotter2.add_axes()\n",
    "plotter2.show()\n",
    "# plotter2.save_graphic('geom.eps')"
   ]
  },
  {
   "cell_type": "code",
   "execution_count": 39,
   "id": "b9a9f161",
   "metadata": {},
   "outputs": [
    {
     "data": {
      "text/html": [
       "<table style='width: 100%;'><tr><th>Header</th><th>Data Arrays</th></tr><tr><td>\n",
       "<table style='width: 100%;'>\n",
       "<tr><th>UnstructuredGrid</th><th>Information</th></tr>\n",
       "<tr><td>N Cells</td><td>60649</td></tr>\n",
       "<tr><td>N Points</td><td>13823</td></tr>\n",
       "<tr><td>X Bounds</td><td>-5.000e+00, 5.000e+00</td></tr>\n",
       "<tr><td>Y Bounds</td><td>-1.322e+00, 1.245e+00</td></tr>\n",
       "<tr><td>Z Bounds</td><td>-1.201e+00, 1.218e+00</td></tr>\n",
       "<tr><td>N Arrays</td><td>4</td></tr>\n",
       "</table>\n",
       "\n",
       "</td><td>\n",
       "<table style='width: 100%;'>\n",
       "<tr><th>Name</th><th>Field</th><th>Type</th><th>N Comp</th><th>Min</th><th>Max</th></tr>\n",
       "<tr><td><b>GlobalNodeID</b></td><td>Points</td><td>int32</td><td>1</td><td>0.000e+00</td><td>2.271e+04</td></tr>\n",
       "<tr><td>vtkOriginalPointIds</td><td>Points</td><td>int64</td><td>1</td><td>0.000e+00</td><td>2.271e+04</td></tr>\n",
       "<tr><td>GlobalElementID</td><td>Cells</td><td>int32</td><td>1</td><td>1.000e+00</td><td>1.213e+05</td></tr>\n",
       "<tr><td>vtkOriginalCellIds</td><td>Cells</td><td>int64</td><td>1</td><td>1.000e+00</td><td>1.213e+05</td></tr>\n",
       "</table>\n",
       "\n",
       "</td></tr> </table>"
      ],
      "text/plain": [
       "UnstructuredGrid (0x75c1cc9a8ee0)\n",
       "  N Cells:    60649\n",
       "  N Points:   13823\n",
       "  X Bounds:   -5.000e+00, 5.000e+00\n",
       "  Y Bounds:   -1.322e+00, 1.245e+00\n",
       "  Z Bounds:   -1.201e+00, 1.218e+00\n",
       "  N Arrays:   4"
      ]
     },
     "execution_count": 39,
     "metadata": {},
     "output_type": "execute_result"
    }
   ],
   "source": [
    "f_vol"
   ]
  },
  {
   "cell_type": "code",
   "execution_count": null,
   "id": "711f7135",
   "metadata": {},
   "outputs": [
    {
     "name": "stdout",
     "output_type": "stream",
     "text": [
      "Approx. smallest cell length: 0.008771565309665108\n",
      "Approx. dt for CFL=1: 8.771565309665108e-05\n"
     ]
    },
    {
     "data": {
      "image/png": "[encoded data removed]",
      "text/plain": [
       "<Figure size 640x480 with 1 Axes>"
      ]
     },
     "metadata": {},
     "output_type": "display_data"
    }
   ],
   "source": []
  },
  {
   "cell_type": "code",
   "execution_count": 40,
   "id": "78259116",
   "metadata": {},
   "outputs": [
    {
     "name": "stdout",
     "output_type": "stream",
     "text": [
      "Approx. smallest cell length: 0.0016340268741621457\n",
      "Approx. dt for CFL=1: 1.6340268741621458e-05\n"
     ]
    },
    {
     "data": {
      "image/png": "[encoded data removed]",
      "text/plain": [
       "<Figure size 640x480 with 1 Axes>"
      ]
     },
     "metadata": {},
     "output_type": "display_data"
    }
   ],
   "source": [
    "import matplotlib.pyplot as plt \n",
    "# plt.hist(f_vol.compute_cell_sizes())\n",
    "f_vol = f_vol.compute_cell_sizes()\n",
    "plt.hist(f_vol['Volume']**(1/3), bins=30)#, range=(0, 0.01))\n",
    "delta_min = np.min(f_vol['Volume'])**(1/3)\n",
    "print('Approx. smallest cell length: ' + str(delta_min))\n",
    "print('Approx. dt for CFL=1: ' + str(delta_min/100.)) "
   ]
  },
  {
   "cell_type": "code",
   "execution_count": null,
   "id": "5b700b6d",
   "metadata": {},
   "outputs": [],
   "source": []
  }
 ],
 "metadata": {
  "kernelspec": {
   "display_name": ".venv",
   "language": "python",
   "name": "python3"
  },
  "language_info": {
   "codemirror_mode": {
    "name": "ipython",
    "version": 3
   },
   "file_extension": ".py",
   "mimetype": "text/x-python",
   "name": "python",
   "nbconvert_exporter": "python",
   "pygments_lexer": "ipython3",
   "version": "3.12.3"
  }
 },
 "nbformat": 4,
 "nbformat_minor": 5
}
