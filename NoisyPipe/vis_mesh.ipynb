{
 "cells": [
  {
   "cell_type": "code",
   "execution_count": 37,
   "id": "409361ee",
   "metadata": {},
   "outputs": [],
   "source": [
    "import pyvista as pv\n",
    "import numpy as np\n",
    "from scipy.interpolate import make_interp_spline\n",
    "pv.set_jupyter_backend('client')\n",
    "from generate_noisy_pipe import *"
   ]
  },
  {
   "cell_type": "markdown",
   "id": "3be393e2",
   "metadata": {},
   "source": [
    "# Noisy cylinder"
   ]
  },
  {
   "cell_type": "code",
   "execution_count": 43,
   "id": "d732705e",
   "metadata": {},
   "outputs": [],
   "source": [
    "# Define mesh path\n",
    "# case_path = '/home/dana/Documents/SimVascular/svMultiPhysics/NoisyPipe/mesh_test/'\n",
    "case_path = '/home/dana/Documents/SimVascular/svMultiPhysics/NoisyPipe/NP_0042_bent/'\n",
    "mesh_path = case_path + 'mesh/'\n",
    "geom_path = case_path + 'geom/'"
   ]
  },
  {
   "cell_type": "code",
   "execution_count": 44,
   "id": "90541926",
   "metadata": {},
   "outputs": [
    {
     "data": {
      "application/vnd.jupyter.widget-view+json": {
       "model_id": "431f321e25c64ba3942d40331d277ca4",
       "version_major": 2,
       "version_minor": 0
      },
      "text/plain": [
       "Widget(value='<iframe src=\"http://localhost:36441/index.html?ui=P_0x7328c054dac0_27&reconnect=auto\" class=\"pyv…"
      ]
     },
     "metadata": {},
     "output_type": "display_data"
    }
   ],
   "source": [
    "# Load geometry files\n",
    "fluid = pv.read(geom_path + \"fluid.vtp\")\n",
    "# solid = pv.read(geom_path + \"solid.vtp\")\n",
    "# combined = pv.read(geom_path + \"combined.vtp\")\n",
    "# regions = np.load(geom_path + \"region.npy\")\n",
    "spline = np.load(geom_path + \"spline.npy\")\n",
    "contours = np.load(geom_path + \"contours.npy\")\n",
    "# Visualize\n",
    "pl = pv.Plotter()\n",
    "pl.add_mesh(fluid, cmap='tab10',show_edges=True)\n",
    "# pl.add_mesh(solid, cmap='tab10',show_edges=True)\n",
    "pl.add_points(spline, color='red')\n",
    "for i in range(contours.shape[0]):\n",
    "    pl.add_points(contours[i,:,:], color='blue')\n",
    "\n",
    "pl.show()"
   ]
  },
  {
   "cell_type": "code",
   "execution_count": 40,
   "id": "5da05c9a",
   "metadata": {},
   "outputs": [
    {
     "data": {
      "application/vnd.jupyter.widget-view+json": {
       "model_id": "0df673b582704be1a47d311821847383",
       "version_major": 2,
       "version_minor": 0
      },
      "text/plain": [
       "Widget(value='<iframe src=\"http://localhost:36441/index.html?ui=P_0x7328bb7c3320_25&reconnect=auto\" class=\"pyv…"
      ]
     },
     "metadata": {},
     "output_type": "display_data"
    },
    {
     "data": {
      "application/vnd.jupyter.widget-view+json": {
       "model_id": "e90f79e043364e44913c3e606f2f3cbd",
       "version_major": 2,
       "version_minor": 0
      },
      "text/plain": [
       "Widget(value='<iframe src=\"http://localhost:36441/index.html?ui=P_0x7328b8d3b710_26&reconnect=auto\" class=\"pyv…"
      ]
     },
     "metadata": {},
     "output_type": "display_data"
    }
   ],
   "source": [
    "# Load fluid\n",
    "f_vol = pv.read(mesh_path + \"fluid/mesh-complete.vtu\")\n",
    "f_inlet = pv.read(mesh_path + \"fluid/mesh-surfaces/inlet.vtp\")\n",
    "f_outlet = pv.read(mesh_path + \"fluid/mesh-surfaces/outlet.vtp\")\n",
    "f_interface = pv.read(mesh_path + \"fluid/mesh-surfaces/interface.vtp\")\n",
    "# f_vol_c = f_vol.clip(normal='y',origin=(0,0,0),invert=False)\n",
    "# f_inlet = f_inlet.clip(normal='y',origin=(0,0,0),invert=False)\n",
    "# f_outlet = f_outlet.clip(normal='y',origin=(0,0,0),invert=False)\n",
    "# f_interface = f_interface.clip(normal='x',origin=(0,0,0),invert=False)\n",
    "\n",
    "# Load solid\n",
    "# s_vol = pv.read(mesh_path + \"solid/mesh-complete.vtu\")\n",
    "# s_inlet = pv.read(mesh_path + \"solid/mesh-surfaces/inlet.vtp\")\n",
    "# s_outlet = pv.read(mesh_path + \"solid/mesh-surfaces/outlet.vtp\")\n",
    "# s_interface = pv.read(mesh_path + \"solid/mesh-surfaces/interface.vtp\")\n",
    "# s_outside = pv.read(mesh_path + \"solid/mesh-surfaces/outside.vtp\")\n",
    "# s_vol_c = s_vol.clip(normal='y',origin=(0,0,0),invert=False)\n",
    "# s_inlet = s_inlet.clip(normal='y',origin=(0,0,0),invert=False)\n",
    "# s_outlet = s_outlet.clip(normal='y',origin=(0,0,0),invert=False)\n",
    "# s_interface = s_interface.clip(normal='y',origin=(0,0,0),invert=False)\n",
    "# s_outside = s_outside.clip(normal='y',origin=(0,0,0),invert=False)\n",
    "\n",
    "\n",
    "# Some camera stuff\n",
    "cam = [(0,-10,0),(0,0,0),(0,0,1)]#[(13,3,3),(3,0,0),(0,0,1)]\n",
    "cam2 = [(0,-25,0),(0,0,0),(0,0,1)]\n",
    "\n",
    "plotter1 = pv.Plotter(shape=(1,2),off_screen=True)\n",
    "# Volume mesh\n",
    "plotter1.subplot(0,0)\n",
    "plotter1.camera_position = cam\n",
    "plotter1.add_mesh(f_vol, color='cyan', edge_opacity=0.5, show_edges=True) # Fluid\n",
    "# plotter1.add_mesh(s_vol_c, color='magenta', edge_opacity=0.5, show_edges=True) # Solid\n",
    "plotter1.add_text(\"Volume Mesh\", font_size=12)\n",
    "plotter1.add_axes()\n",
    "# Surface meshes\n",
    "plotter1.subplot(0,1)\n",
    "plotter1.camera_position = cam\n",
    "# Fluid\n",
    "plotter1.add_mesh(f_inlet, color='cyan', opacity=1, edge_opacity=0.5, show_edges=True)\n",
    "plotter1.add_mesh(f_outlet, color='magenta', opacity=1, edge_opacity=0.5, show_edges=True)\n",
    "plotter1.add_mesh(f_interface, color='green', opacity=0.5, edge_opacity=0.5, show_edges=True)\n",
    "# Solid\n",
    "# plotter1.add_mesh(s_inlet, color='cyan', edge_opacity=0.5, show_edges=True)\n",
    "# plotter1.add_mesh(s_outlet, color='magenta', edge_opacity=0.5, show_edges=True)\n",
    "# plotter1.add_mesh(s_outside, color='red', edge_opacity=0.5, show_edges=True)\n",
    "plotter1.add_text(\"Surface Mesh\", font_size=12)\n",
    "plotter1.add_axes()\n",
    "plotter1.show()\n",
    "# plotter1.save_graphic('mesh.eps')\n",
    "\n",
    "plotter2 = pv.Plotter(shape=(1,2))\n",
    "# Whole geometries\n",
    "plotter2.subplot(0,0)\n",
    "plotter2.camera_position = cam2\n",
    "plotter2.add_mesh(f_vol_c, color='cyan', opacity=0.5, show_edges=False) # Fluid\n",
    "# plotter2.add_mesh(s_vol_c, color='magenta', opacity=0.5, show_edges=False) # Solid\n",
    "plotter2.add_axes()\n",
    "plotter2.subplot(0,1)\n",
    "plotter2.add_mesh(f_vol, color='cyan', opacity=0.5, show_edges=False) # Fluid\n",
    "# plotter2.add_mesh(s_vol, color='magenta', opacity=0.5, show_edges=False) # Solid\n",
    "plotter2.add_axes()\n",
    "plotter2.show()\n",
    "# plotter2.save_graphic('geom.eps')"
   ]
  },
  {
   "cell_type": "code",
   "execution_count": 41,
   "id": "78259116",
   "metadata": {},
   "outputs": [
    {
     "name": "stdout",
     "output_type": "stream",
     "text": [
      "Approx. smallest cell volume: 1.0036042644974348e-07\n",
      "Approx. smallest cell length: 0.004647158651878327\n",
      "Approx. dt for CFL=1: 4.6471586518783264e-05\n"
     ]
    },
    {
     "data": {
      "image/png": "[encoded data removed]",
      "text/plain": [
       "<Figure size 1200x400 with 2 Axes>"
      ]
     },
     "metadata": {},
     "output_type": "display_data"
    }
   ],
   "source": [
    "import matplotlib.pyplot as plt \n",
    "# plt.hist(f_vol.compute_cell_sizes())\n",
    "f = f_vol.compute_cell_sizes()\n",
    "f = f.compute_cell_quality()\n",
    "fig,ax=plt.subplots(1,2,figsize=(12,4))\n",
    "ax[0].hist(f['Volume']**(1/3), bins=30)#, range=(0, 0.01))\n",
    "ax[0].set_title('Cell Size')\n",
    "ax[1].hist(f['CellQuality'], bins=30)#, range=(0, 0.01))\n",
    "ax[1].set_title('Cell Quality')\n",
    "delta_min = np.min(f['Volume'])**(1/3)\n",
    "print('Approx. smallest cell volume: ' + str(np.min(f['Volume'])))\n",
    "print('Approx. smallest cell length: ' + str(delta_min))\n",
    "print('Approx. dt for CFL=1: ' + str(delta_min/100.)) "
   ]
  },
  {
   "cell_type": "code",
   "execution_count": 42,
   "id": "bb862cc6",
   "metadata": {},
   "outputs": [
    {
     "data": {
      "text/html": [
       "<table style='width: 100%;'><tr><th>Header</th><th>Data Arrays</th></tr><tr><td>\n",
       "<table style='width: 100%;'>\n",
       "<tr><th>UnstructuredGrid</th><th>Information</th></tr>\n",
       "<tr><td>N Cells</td><td>227592</td></tr>\n",
       "<tr><td>N Points</td><td>47138</td></tr>\n",
       "<tr><td>X Bounds</td><td>-5.872e+00, 5.790e+00</td></tr>\n",
       "<tr><td>Y Bounds</td><td>-2.567e+00, 3.825e+00</td></tr>\n",
       "<tr><td>Z Bounds</td><td>-2.154e+00, 1.779e+00</td></tr>\n",
       "<tr><td>N Arrays</td><td>6</td></tr>\n",
       "</table>\n",
       "\n",
       "</td><td>\n",
       "<table style='width: 100%;'>\n",
       "<tr><th>Name</th><th>Field</th><th>Type</th><th>N Comp</th><th>Min</th><th>Max</th></tr>\n",
       "<tr><td><b>GlobalNodeID</b></td><td>Points</td><td>int32</td><td>1</td><td>0.000e+00</td><td>4.714e+04</td></tr>\n",
       "<tr><td>GlobalElementID</td><td>Cells</td><td>int32</td><td>1</td><td>0.000e+00</td><td>2.276e+05</td></tr>\n",
       "<tr><td>Length</td><td>Cells</td><td>float64</td><td>1</td><td>0.000e+00</td><td>0.000e+00</td></tr>\n",
       "<tr><td>Area</td><td>Cells</td><td>float64</td><td>1</td><td>0.000e+00</td><td>0.000e+00</td></tr>\n",
       "<tr><td>Volume</td><td>Cells</td><td>float64</td><td>1</td><td>1.004e-07</td><td>1.368e-03</td></tr>\n",
       "<tr><td>CellQuality</td><td>Cells</td><td>float64</td><td>1</td><td>1.086e-02</td><td>9.926e-01</td></tr>\n",
       "</table>\n",
       "\n",
       "</td></tr> </table>"
      ],
      "text/plain": [
       "UnstructuredGrid (0x73289821cee0)\n",
       "  N Cells:    227592\n",
       "  N Points:   47138\n",
       "  X Bounds:   -5.872e+00, 5.790e+00\n",
       "  Y Bounds:   -2.567e+00, 3.825e+00\n",
       "  Z Bounds:   -2.154e+00, 1.779e+00\n",
       "  N Arrays:   6"
      ]
     },
     "execution_count": 42,
     "metadata": {},
     "output_type": "execute_result"
    }
   ],
   "source": [
    "f"
   ]
  },
  {
   "cell_type": "code",
   "execution_count": null,
   "id": "5b700b6d",
   "metadata": {},
   "outputs": [],
   "source": []
  }
 ],
 "metadata": {
  "kernelspec": {
   "display_name": "my_env",
   "language": "python",
   "name": "python3"
  },
  "language_info": {
   "codemirror_mode": {
    "name": "ipython",
    "version": 3
   },
   "file_extension": ".py",
   "mimetype": "text/x-python",
   "name": "python",
   "nbconvert_exporter": "python",
   "pygments_lexer": "ipython3",
   "version": "3.12.3"
  }
 },
 "nbformat": 4,
 "nbformat_minor": 5
}
