{
 "cells": [
  {
   "cell_type": "code",
   "execution_count": 1,
   "id": "409361ee",
   "metadata": {},
   "outputs": [],
   "source": [
    "import pyvista as pv\n",
    "import numpy as np\n",
    "from scipy.interpolate import make_interp_spline\n",
    "pv.set_jupyter_backend('client')\n",
    "from generate_noisy_pipe import *\n",
    "import matplotlib.pyplot as plt"
   ]
  },
  {
   "cell_type": "markdown",
   "id": "3be393e2",
   "metadata": {},
   "source": [
    "# Noisy cylinder"
   ]
  },
  {
   "cell_type": "code",
   "execution_count": 28,
   "id": "064baf2e",
   "metadata": {},
   "outputs": [
    {
     "name": "stdout",
     "output_type": "stream",
     "text": [
      "-0.3732930722549129 0.33825485866537014 0\n"
     ]
    },
    {
     "data": {
      "image/png": "[encoded data removed]",
      "text/plain": [
       "<Figure size 640x480 with 1 Axes>"
      ]
     },
     "metadata": {},
     "output_type": "display_data"
    }
   ],
   "source": [
    "h_max = 0\n",
    "h_min = 0\n",
    "num_error = 0\n",
    "h = []\n",
    "for i in range(0,100):\n",
    "    with open('SP/SP_'+str(i).zfill(4)+'/mesh.log', 'r') as file:\n",
    "        lines = file.readlines()\n",
    "        h.append(float(lines[1].split(' ')[0]))\n",
    "        # print(i, lines[1], lines[7])\n",
    "        if 'Generated mesh' not in lines[7]:\n",
    "            num_error+=1\n",
    "        # if float(lines[1].split(' ')[0]) > 0.25 or float(lines[1].split(' ')[0]) < -0.25:\n",
    "        #     print(i, lines[1], lines[7])\n",
    "        h_max = np.max([h_max,float(lines[1].split(' ')[0])])\n",
    "        h_min = np.min([h_min,float(lines[1].split(' ')[0])])\n",
    "print(h_min,h_max,num_error)\n",
    "\n",
    "plt.hist(h,bins=20);"
   ]
  },
  {
   "cell_type": "code",
   "execution_count": 29,
   "id": "d732705e",
   "metadata": {},
   "outputs": [],
   "source": [
    "# Define mesh path\n",
    "# case_path = '/home/dana/Documents/SimVascular/svMultiPhysics/NoisyPipe/mesh_test/'\n",
    "case_path = '/home/dana/Documents/SimVascular/svMultiPhysics/NoisyPipe/SP/SP_0037/'\n",
    "mesh_path = case_path + 'mesh/'\n",
    "geom_path = case_path + 'geom/'"
   ]
  },
  {
   "cell_type": "code",
   "execution_count": 30,
   "id": "90541926",
   "metadata": {},
   "outputs": [
    {
     "data": {
      "application/vnd.jupyter.widget-view+json": {
       "model_id": "3180ea80f8394a63941ef0376b7c1d31",
       "version_major": 2,
       "version_minor": 0
      },
      "text/plain": [
       "Widget(value='<iframe src=\"http://localhost:38813/index.html?ui=P_0x766c401c6f00_11&reconnect=auto\" class=\"pyv…"
      ]
     },
     "metadata": {},
     "output_type": "display_data"
    }
   ],
   "source": [
    "# Load geometry files\n",
    "fluid = pv.read(geom_path + \"fluid.vtp\")\n",
    "# solid = pv.read(geom_path + \"solid.vtp\")\n",
    "# combined = pv.read(geom_path + \"combined.vtp\")\n",
    "# regions = np.load(geom_path + \"region.npy\")\n",
    "spline = np.load(geom_path + \"spline.npy\")\n",
    "contours = np.load(geom_path + \"contours.npy\")\n",
    "# Visualize\n",
    "pl = pv.Plotter()\n",
    "pl.add_mesh(fluid, cmap='tab10',show_edges=True)\n",
    "# pl.add_mesh(solid, cmap='tab10',show_edges=True)\n",
    "pl.add_points(spline, color='red')\n",
    "for i in range(contours.shape[0]):\n",
    "    pl.add_points(contours[i,:,:], color='blue')\n",
    "\n",
    "pl.show()"
   ]
  },
  {
   "cell_type": "code",
   "execution_count": 31,
   "id": "5da05c9a",
   "metadata": {},
   "outputs": [
    {
     "data": {
      "application/vnd.jupyter.widget-view+json": {
       "model_id": "06ba005a640849b38c4215279325147e",
       "version_major": 2,
       "version_minor": 0
      },
      "text/plain": [
       "Widget(value='<iframe src=\"http://localhost:38813/index.html?ui=P_0x766c3baad2e0_12&reconnect=auto\" class=\"pyv…"
      ]
     },
     "metadata": {},
     "output_type": "display_data"
    },
    {
     "data": {
      "application/vnd.jupyter.widget-view+json": {
       "model_id": "ab8fa64e7a5441f4a31247d5d4de15bb",
       "version_major": 2,
       "version_minor": 0
      },
      "text/plain": [
       "Widget(value='<iframe src=\"http://localhost:38813/index.html?ui=P_0x766c3baad0d0_13&reconnect=auto\" class=\"pyv…"
      ]
     },
     "metadata": {},
     "output_type": "display_data"
    }
   ],
   "source": [
    "# Load fluid\n",
    "f_vol = pv.read(mesh_path + \"fluid/mesh-complete.vtu\")\n",
    "f_inlet = pv.read(mesh_path + \"fluid/mesh-surfaces/inlet.vtp\")\n",
    "f_outlet = pv.read(mesh_path + \"fluid/mesh-surfaces/outlet.vtp\")\n",
    "f_interface = pv.read(mesh_path + \"fluid/mesh-surfaces/interface.vtp\")\n",
    "f_vol_c = f_vol.clip(normal='y',origin=(0,0,0),invert=False)\n",
    "# f_inlet = f_inlet.clip(normal='y',origin=(0,0,0),invert=False)\n",
    "# f_outlet = f_outlet.clip(normal='y',origin=(0,0,0),invert=False)\n",
    "# f_interface = f_interface.clip(normal='x',origin=(0,0,0),invert=False)\n",
    "\n",
    "# Load solid\n",
    "# s_vol = pv.read(mesh_path + \"solid/mesh-complete.vtu\")\n",
    "# s_inlet = pv.read(mesh_path + \"solid/mesh-surfaces/inlet.vtp\")\n",
    "# s_outlet = pv.read(mesh_path + \"solid/mesh-surfaces/outlet.vtp\")\n",
    "# s_interface = pv.read(mesh_path + \"solid/mesh-surfaces/interface.vtp\")\n",
    "# s_outside = pv.read(mesh_path + \"solid/mesh-surfaces/outside.vtp\")\n",
    "# s_vol_c = s_vol.clip(normal='y',origin=(0,0,0),invert=False)\n",
    "# s_inlet = s_inlet.clip(normal='y',origin=(0,0,0),invert=False)\n",
    "# s_outlet = s_outlet.clip(normal='y',origin=(0,0,0),invert=False)\n",
    "# s_interface = s_interface.clip(normal='y',origin=(0,0,0),invert=False)\n",
    "# s_outside = s_outside.clip(normal='y',origin=(0,0,0),invert=False)\n",
    "\n",
    "\n",
    "# Some camera stuff\n",
    "cam = [(0,-10,0),(0,0,0),(0,0,1)]#[(13,3,3),(3,0,0),(0,0,1)]\n",
    "cam2 = [(0,-25,0),(0,0,0),(0,0,1)]\n",
    "\n",
    "plotter1 = pv.Plotter(shape=(1,2),off_screen=True)\n",
    "# Volume mesh\n",
    "plotter1.subplot(0,0)\n",
    "plotter1.camera_position = cam\n",
    "plotter1.add_mesh(f_vol_c, color='cyan', edge_opacity=0.5, show_edges=True) # Fluid\n",
    "# plotter1.add_mesh(s_vol_c, color='magenta', edge_opacity=0.5, show_edges=True) # Solid\n",
    "plotter1.add_text(\"Volume Mesh\", font_size=12)\n",
    "plotter1.add_axes()\n",
    "# Surface meshes\n",
    "plotter1.subplot(0,1)\n",
    "plotter1.camera_position = cam\n",
    "# Fluid\n",
    "plotter1.add_mesh(f_inlet, color='cyan', opacity=0.5, edge_opacity=0.5, show_edges=True)\n",
    "plotter1.add_mesh(f_outlet, color='magenta', opacity=0.5, edge_opacity=0.5, show_edges=True)\n",
    "plotter1.add_mesh(f_interface, color='green', opacity=0.5, edge_opacity=0.5, show_edges=True)\n",
    "# Solid\n",
    "# plotter1.add_mesh(s_inlet, color='cyan', edge_opacity=0.5, show_edges=True)\n",
    "# plotter1.add_mesh(s_outlet, color='magenta', edge_opacity=0.5, show_edges=True)\n",
    "# plotter1.add_mesh(s_outside, color='red', edge_opacity=0.5, show_edges=True)\n",
    "plotter1.add_text(\"Surface Mesh\", font_size=12)\n",
    "plotter1.add_axes()\n",
    "plotter1.show()\n",
    "# plotter1.save_graphic('mesh.eps')\n",
    "\n",
    "plotter2 = pv.Plotter(shape=(1,2))\n",
    "# Whole geometries\n",
    "plotter2.subplot(0,0)\n",
    "plotter2.camera_position = cam2\n",
    "plotter2.add_mesh(f_vol, color='cyan', opacity=0.5, show_edges=False) # Fluid\n",
    "# plotter2.add_mesh(s_vol_c, color='magenta', opacity=0.5, show_edges=False) # Solid\n",
    "plotter2.add_axes()\n",
    "plotter2.subplot(0,1)\n",
    "plotter2.add_mesh(f_vol, color='cyan', opacity=0.5, show_edges=False) # Fluid\n",
    "# plotter2.add_mesh(s_vol, color='magenta', opacity=0.5, show_edges=False) # Solid\n",
    "plotter2.add_axes()\n",
    "plotter2.show()\n",
    "# plotter2.save_graphic('geom.eps')"
   ]
  },
  {
   "cell_type": "code",
   "execution_count": 16,
   "id": "78259116",
   "metadata": {},
   "outputs": [
    {
     "name": "stdout",
     "output_type": "stream",
     "text": [
      "Approx. smallest cell volume: 1.1748253673638869e-07\n",
      "Approx. smallest cell length: 0.004897687882329498\n",
      "Approx. dt for CFL=1: 4.897687882329498e-05\n"
     ]
    },
    {
     "name": "stderr",
     "output_type": "stream",
     "text": [
      "/home/dana/Documents/SimVascular/svMultiPhysics/my_env/lib/python3.12/site-packages/pyvista/core/filters/data_set.py:5650: PyVistaDeprecationWarning: This filter is deprecated. Use `cell_quality` instead. Note that this\n",
      "new filter does not include an array named ``'CellQuality'`\n",
      "  warnings.warn(msg, PyVistaDeprecationWarning)\n"
     ]
    },
    {
     "data": {
      "image/png": "[encoded data removed]",
      "text/plain": [
       "<Figure size 1200x400 with 2 Axes>"
      ]
     },
     "metadata": {},
     "output_type": "display_data"
    }
   ],
   "source": [
    "import matplotlib.pyplot as plt \n",
    "# plt.hist(f_vol.compute_cell_sizes())\n",
    "f = f_vol.compute_cell_sizes()\n",
    "f = f.compute_cell_quality()\n",
    "fig,ax=plt.subplots(1,2,figsize=(12,4))\n",
    "ax[0].hist(f['Volume']**(1/3), bins=30)#, range=(0, 0.01))\n",
    "ax[0].set_title('Cell Size')\n",
    "ax[1].hist(f['CellQuality'], bins=30)#, range=(0, 0.01))\n",
    "ax[1].set_title('Cell Quality')\n",
    "delta_min = np.min(f['Volume'])**(1/3)\n",
    "print('Approx. smallest cell volume: ' + str(np.min(f['Volume'])))\n",
    "print('Approx. smallest cell length: ' + str(delta_min))\n",
    "print('Approx. dt for CFL=1: ' + str(delta_min/100.)) "
   ]
  },
  {
   "cell_type": "code",
   "execution_count": 261,
   "id": "bb862cc6",
   "metadata": {},
   "outputs": [
    {
     "data": {
      "text/html": [
       "<table style='width: 100%;'><tr><th>Header</th><th>Data Arrays</th></tr><tr><td>\n",
       "<table style='width: 100%;'>\n",
       "<tr><th>UnstructuredGrid</th><th>Information</th></tr>\n",
       "<tr><td>N Cells</td><td>72373</td></tr>\n",
       "<tr><td>N Points</td><td>19476</td></tr>\n",
       "<tr><td>X Bounds</td><td>-5.000e+00, 4.896e+00</td></tr>\n",
       "<tr><td>Y Bounds</td><td>-2.429e-17, 1.099e+00</td></tr>\n",
       "<tr><td>Z Bounds</td><td>-1.099e+00, 1.099e+00</td></tr>\n",
       "<tr><td>N Arrays</td><td>6</td></tr>\n",
       "</table>\n",
       "\n",
       "</td><td>\n",
       "<table style='width: 100%;'>\n",
       "<tr><th>Name</th><th>Field</th><th>Type</th><th>N Comp</th><th>Min</th><th>Max</th></tr>\n",
       "<tr><td><b>GlobalNodeID</b></td><td>Points</td><td>int32</td><td>1</td><td>3.300e+01</td><td>2.796e+04</td></tr>\n",
       "<tr><td>GlobalElementID</td><td>Cells</td><td>int32</td><td>1</td><td>1.000e+00</td><td>1.353e+05</td></tr>\n",
       "<tr><td>Length</td><td>Cells</td><td>float64</td><td>1</td><td>0.000e+00</td><td>0.000e+00</td></tr>\n",
       "<tr><td>Area</td><td>Cells</td><td>float64</td><td>1</td><td>0.000e+00</td><td>0.000e+00</td></tr>\n",
       "<tr><td>Volume</td><td>Cells</td><td>float64</td><td>1</td><td>-5.998e-34</td><td>1.314e-03</td></tr>\n",
       "<tr><td>CellQuality</td><td>Cells</td><td>float64</td><td>1</td><td>-1.155e+00</td><td>1.000e+30</td></tr>\n",
       "</table>\n",
       "\n",
       "</td></tr> </table>"
      ],
      "text/plain": [
       "UnstructuredGrid (0x7a26c4581780)\n",
       "  N Cells:    72373\n",
       "  N Points:   19476\n",
       "  X Bounds:   -5.000e+00, 4.896e+00\n",
       "  Y Bounds:   -2.429e-17, 1.099e+00\n",
       "  Z Bounds:   -1.099e+00, 1.099e+00\n",
       "  N Arrays:   6"
      ]
     },
     "execution_count": 261,
     "metadata": {},
     "output_type": "execute_result"
    }
   ],
   "source": [
    "f"
   ]
  },
  {
   "cell_type": "code",
   "execution_count": 304,
   "id": "5b700b6d",
   "metadata": {},
   "outputs": [
    {
     "data": {
      "application/vnd.jupyter.widget-view+json": {
       "model_id": "4fe99502f81540ea862813ec0391a93e",
       "version_major": 2,
       "version_minor": 0
      },
      "text/plain": [
       "Widget(value='<iframe src=\"http://localhost:39019/index.html?ui=P_0x7a2697c74dd0_87&reconnect=auto\" class=\"pyv…"
      ]
     },
     "metadata": {},
     "output_type": "display_data"
    }
   ],
   "source": [
    "cases = np.arange(10,16)\n",
    "pl = pv.Plotter(shape=(2,3),window_size=[1200,600])\n",
    "\n",
    "for i,case in enumerate(cases):\n",
    "    # Define mesh path\n",
    "    case_path = '/home/dana/Documents/SimVascular/svMultiPhysics/NoisyPipe/SP/SP_' + str(case).zfill(4) + '/'\n",
    "    mesh_path = case_path + 'mesh/'\n",
    "    geom_path = case_path + 'geom/'\n",
    "\n",
    "    # Load geometry files\n",
    "    fluid = pv.read(geom_path + \"fluid.vtp\")\n",
    "    spline = np.load(geom_path + \"spline.npy\")\n",
    "    contours = np.load(geom_path + \"contours.npy\")\n",
    "\n",
    "    # Visualize\n",
    "    pl.subplot(i//3,np.mod(i,3))\n",
    "    pl.add_mesh(fluid, cmap='tab10',show_edges=False, show_scalar_bar=False, opacity=0.7)\n",
    "    # pl.add_mesh(solid, cmap='tab10',show_edges=True)\n",
    "    # pl.add_points(spline, color='red')\n",
    "    # for i in range(contours.shape[0]):\n",
    "    #     pl.add_points(contours[i,:,:], color='blue')\n",
    "\n",
    "pl.link_views()\n",
    "pl.show()"
   ]
  }
 ],
 "metadata": {
  "kernelspec": {
   "display_name": "my_env",
   "language": "python",
   "name": "python3"
  },
  "language_info": {
   "codemirror_mode": {
    "name": "ipython",
    "version": 3
   },
   "file_extension": ".py",
   "mimetype": "text/x-python",
   "name": "python",
   "nbconvert_exporter": "python",
   "pygments_lexer": "ipython3",
   "version": "3.12.3"
  }
 },
 "nbformat": 4,
 "nbformat_minor": 5
}
