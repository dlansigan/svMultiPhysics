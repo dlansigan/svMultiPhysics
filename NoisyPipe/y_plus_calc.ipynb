{
 "cells": [
  {
   "cell_type": "code",
   "execution_count": 2,
   "id": "6edc1e6f",
   "metadata": {},
   "outputs": [],
   "source": [
    "import numpy as np"
   ]
  },
  {
   "cell_type": "code",
   "execution_count": 26,
   "id": "121628f3",
   "metadata": {},
   "outputs": [
    {
     "name": "stdout",
     "output_type": "stream",
     "text": [
      "Re: 1000.000000\n",
      "f: 0.064000\n",
      "u_tau: 1.788854\n",
      "delta_y: 0.022361\n"
     ]
    }
   ],
   "source": [
    "nu = 0.04\n",
    "U = 20\n",
    "L = 2\n",
    "y_plus = 1\n",
    "\n",
    "Re = U*L/nu\n",
    "if Re < 3000:\n",
    "    f = 64/Re \n",
    "else:\n",
    "    f = 0.316/Re**(1/4)\n",
    "u_tau = U*np.sqrt(f/8)\n",
    "delta_y = y_plus*nu/u_tau\n",
    "# np.sqrt(nu**3/(8*U**3*L))*y_plus\n",
    "\n",
    "print(\"Re: %f\" % (Re))\n",
    "print(\"f: %f\" % (f))\n",
    "print(\"u_tau: %f\" % (u_tau))\n",
    "print(\"delta_y: %f\" % (delta_y))"
   ]
  },
  {
   "cell_type": "code",
   "execution_count": 23,
   "id": "e0c3ca49",
   "metadata": {},
   "outputs": [
    {
     "name": "stdout",
     "output_type": "stream",
     "text": [
      "delta_99: 0.912871\n",
      "n: 10.242918\n"
     ]
    }
   ],
   "source": [
    "delta_y = 0.02\n",
    "delta_99 = 5*5/np.sqrt(Re)\n",
    "r = 1.3\n",
    "t = delta_99\n",
    "n = np.log(1+t*(r-1)/delta_y)/np.log(r)\n",
    "print(\"delta_99: %f\" % (delta_99))\n",
    "print(\"n: %f\" % (n))"
   ]
  },
  {
   "cell_type": "code",
   "execution_count": null,
   "id": "58c87991",
   "metadata": {},
   "outputs": [],
   "source": []
  }
 ],
 "metadata": {
  "kernelspec": {
   "display_name": "my_env",
   "language": "python",
   "name": "python3"
  },
  "language_info": {
   "codemirror_mode": {
    "name": "ipython",
    "version": 3
   },
   "file_extension": ".py",
   "mimetype": "text/x-python",
   "name": "python",
   "nbconvert_exporter": "python",
   "pygments_lexer": "ipython3",
   "version": "3.12.3"
  }
 },
 "nbformat": 4,
 "nbformat_minor": 5
}
