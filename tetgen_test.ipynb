{
 "cells": [
  {
   "cell_type": "code",
   "execution_count": 1,
   "id": "409361ee",
   "metadata": {},
   "outputs": [],
   "source": [
    "import tetgen\n",
    "import pyvista as pv\n",
    "import numpy as np"
   ]
  },
  {
   "cell_type": "code",
   "execution_count": 44,
   "id": "4f11e134",
   "metadata": {},
   "outputs": [
    {
     "name": "stdout",
     "output_type": "stream",
     "text": [
      "Delaunizing vertices...\n",
      "Delaunay seconds:  3.5e-05\n",
      "Creating surface mesh ...\n",
      "Surface mesh seconds:  1.8e-05\n",
      "Recovering boundaries...\n",
      "Boundary recovery seconds:  3.6e-05\n",
      "Removing exterior tetrahedra ...\n",
      "Exterior tets removal seconds:  4e-06\n",
      "Recovering Delaunayness...\n",
      "Delaunay recovery seconds:  1.8e-05\n",
      "Refining mesh...\n",
      "  10 insertions, added 4 points, 49 tetrahedra in queue.\n",
      "  3 insertions, added 2 points, 67 tetrahedra in queue.\n",
      "  4 insertions, added 2 points, 79 tetrahedra in queue.\n",
      "  5 insertions, added 4 points, 95 tetrahedra in queue.\n",
      "  7 insertions, added 4 points, 123 tetrahedra in queue.\n",
      "  9 insertions, added 4 points, 159 tetrahedra in queue.\n",
      "  12 insertions, added 9 points, 301 tetrahedra in queue.\n",
      "  16 insertions, added 9 points, 402 tetrahedra in queue.\n",
      "  21 insertions, added 12 points, 441 tetrahedra in queue.\n",
      "Refinement seconds:  0.000535\n",
      "Smoothing vertices...\n",
      "Mesh smoothing seconds:  0.000171\n",
      "Improving mesh...\n",
      "Mesh improvement seconds:  3.2e-05\n",
      "\n",
      "Writing nodes.\n",
      "Writing elements.\n",
      "Writing faces.\n",
      "Writing edges.\n",
      "\n",
      "Output seconds:  6e-06\n",
      "Total running seconds:  0.000887\n",
      "\n",
      "Statistics:\n",
      "\n",
      "  Input points: 8\n",
      "  Input facets: 12\n",
      "  Input segments: 12\n",
      "  Input holes: 0\n",
      "  Input regions: 0\n",
      "\n",
      "  Mesh points: 60\n",
      "  Mesh tetrahedra: 173\n",
      "  Mesh faces: 394\n",
      "  Mesh faces on exterior boundary: 96\n",
      "  Mesh faces on input facets: 96\n",
      "  Mesh edges on input segments: 24\n",
      "  Steiner points on input facets:  30\n",
      "  Steiner points on input segments:  12\n",
      "  Steiner points inside domain: 10\n",
      "\n"
     ]
    }
   ],
   "source": [
    "# Create some points and a simple surface to be meshed.\n",
    "# This example meshes a cube for simplicity.\n",
    "points = np.array([\n",
    "    [0, 0, 0],\n",
    "    [1, 0, 0], \n",
    "    [1, 1, 0], \n",
    "    [0, 1, 0],\n",
    "    [0, 0, 1], \n",
    "    [1, 0, 1], \n",
    "    [1, 1, 1], \n",
    "    [0, 1, 1]\n",
    "])\n",
    "# A simple representation of the surface faces (optional but good practice)\n",
    "faces = np.array([\n",
    "    [0, 1, 2], [0, 2, 3],  # bottom\n",
    "    [4, 5, 6], [4, 6, 7],  # top\n",
    "    [0, 1, 5], [0, 5, 4],  # front\n",
    "    [1, 2, 6], [1, 6, 5],  # right\n",
    "    [2, 3, 7], [2, 7, 6],  # back\n",
    "    [3, 0, 4], [3, 4, 7],  # left\n",
    "])\n",
    "\n",
    "# Get grid\n",
    "tg = tetgen.TetGen(points,faces)\n",
    "tg.tetrahedralize(switches='pq1.2a0.01')\n",
    "mesh = tg.grid\n",
    "\n",
    "# Plot with PyVista\n",
    "# plotter = pv.Plotter()\n",
    "# plotter.add_mesh(mesh, show_edges=True, color=\"lightblue\", opacity=0.5)\n",
    "# plotter.show_grid()\n",
    "# plotter.show(title=\"Tetrahedralized Cube\")\n"
   ]
  },
  {
   "cell_type": "code",
   "execution_count": 45,
   "id": "c9dd2ccf",
   "metadata": {},
   "outputs": [],
   "source": [
    "# Sepearate volume and surface meshes\n",
    "volume_mesh = tg.grid                          # pyvista.UnstructuredGrid\n",
    "surface_mesh = volume_mesh.extract_surface()    # pyvista.PolyData\n",
    "\n",
    "# Save meshes to files\n",
    "volume_mesh.save(\"cube_volume.vtu\")     # Save as VTU (volume mesh)\n",
    "surface_mesh.save(\"cube_surface.vtp\")   # Save as VTP (surface mesh)"
   ]
  },
  {
   "cell_type": "code",
   "execution_count": 48,
   "id": "f80fc786",
   "metadata": {},
   "outputs": [
    {
     "data": {
      "application/vnd.jupyter.widget-view+json": {
       "model_id": "6ccc30cc2c8149749b0c78afe2494013",
       "version_major": 2,
       "version_minor": 0
      },
      "text/plain": [
       "Widget(value='<iframe src=\"http://localhost:43537/index.html?ui=P_0x743ab01ba480_14&reconnect=auto\" class=\"pyv…"
      ]
     },
     "metadata": {},
     "output_type": "display_data"
    }
   ],
   "source": [
    "# Load back and visualize\n",
    "vol = pv.read(\"cube_volume.vtu\")\n",
    "surf = pv.read(\"cube_surface.vtp\")\n",
    "\n",
    "plotter = pv.Plotter(shape=(1,2))\n",
    "\n",
    "plotter.subplot(0,0)\n",
    "plotter.add_mesh(vol, style='wireframe')\n",
    "plotter.add_text(\"Volume Mesh\", font_size=12)\n",
    "plotter.subplot(0,1)\n",
    "plotter.add_mesh(surf, style='wireframe')\n",
    "plotter.add_text(\"Surface Mesh\", font_size=12)\n",
    "plotter.show()"
   ]
  },
  {
   "cell_type": "code",
   "execution_count": null,
   "id": "be006f1d",
   "metadata": {},
   "outputs": [],
   "source": []
  }
 ],
 "metadata": {
  "kernelspec": {
   "display_name": "my_env",
   "language": "python",
   "name": "python3"
  },
  "language_info": {
   "codemirror_mode": {
    "name": "ipython",
    "version": 3
   },
   "file_extension": ".py",
   "mimetype": "text/x-python",
   "name": "python",
   "nbconvert_exporter": "python",
   "pygments_lexer": "ipython3",
   "version": "3.12.3"
  }
 },
 "nbformat": 4,
 "nbformat_minor": 5
}
