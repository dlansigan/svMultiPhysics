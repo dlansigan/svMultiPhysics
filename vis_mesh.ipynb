{
 "cells": [
  {
   "cell_type": "code",
   "execution_count": 3,
   "id": "409361ee",
   "metadata": {},
   "outputs": [],
   "source": [
    "import tetgen\n",
    "import pyvista as pv\n",
    "import numpy as np"
   ]
  },
  {
   "cell_type": "code",
   "execution_count": 7,
   "id": "5da05c9a",
   "metadata": {},
   "outputs": [
    {
     "data": {
      "application/vnd.jupyter.widget-view+json": {
       "model_id": "f17c349042a74bd993dd71af333b3b25",
       "version_major": 2,
       "version_minor": 0
      },
      "text/plain": [
       "Widget(value='<iframe src=\"http://localhost:46369/index.html?ui=P_0x784148cb3c50_4&reconnect=auto\" class=\"pyvi…"
      ]
     },
     "metadata": {},
     "output_type": "display_data"
    }
   ],
   "source": [
    "# Load back and visualize\n",
    "mesh_path = '/home/dana/Documents/SimVascular/svMultiPhysics/tests/cases/fsi/pipe_3d/mesh/solid/'\n",
    "vol = pv.read(mesh_path+\"mesh-complete.mesh.vtu\")\n",
    "vol_s = vol.clip(normal='y',origin=(0,0,0),invert=True)\n",
    "inlet = pv.read(mesh_path+\"mesh-surfaces/start.vtp\")\n",
    "outlet = pv.read(mesh_path+\"mesh-surfaces/end.vtp\")\n",
    "outside = pv.read(mesh_path+\"mesh-surfaces/outside.vtp\")\n",
    "interface = pv.read(mesh_path+\"mesh-surfaces/interface.vtp\")\n",
    "inlet_c = inlet.clip(normal='y',origin=(0,0,0),invert=True)\n",
    "outlet_c = outlet.clip(normal='y',origin=(0,0,0),invert=True)\n",
    "outside_c = outside.clip(normal='y',origin=(0,0,0),invert=True)\n",
    "interface_c = interface.clip(normal='y',origin=(0,0,0),invert=True)\n",
    "\n",
    "\n",
    "mesh_path = '/home/dana/Documents/SimVascular/svMultiPhysics/tests/cases/fsi/pipe_3d/mesh/fluid/'\n",
    "vol2 = pv.read(mesh_path+\"mesh-complete.mesh.vtu\")\n",
    "vol2_s = vol2.clip(normal='y',origin=(0,0,0),invert=True)\n",
    "interface2 = pv.read(mesh_path+\"mesh-surfaces/interface.vtp\")\n",
    "interface2_c = interface2.clip(normal='y',origin=(0,0,0),invert=False)\n",
    "\n",
    "# Some camera stuff\n",
    "cam = [(13,3,3),(3,0,0),(0,0,1)]\n",
    "\n",
    "plotter = pv.Plotter(shape=(1,2))\n",
    "\n",
    "plotter.subplot(0,0)\n",
    "# plotter.camera_position = cam\n",
    "# plotter.add_mesh(vol, style='wireframe')\n",
    "plotter.add_mesh(vol_s, color='lightblue',show_edges=True)\n",
    "plotter.add_mesh(vol2_s, color='lightgreen',show_edges=True)\n",
    "plotter.add_text(\"Volume Mesh\", font_size=12)\n",
    "plotter.subplot(0,1)\n",
    "# plotter.camera_position = cam\n",
    "# plotter.add_mesh(surf, style='wireframe')\n",
    "# plotter.add_mesh(surf_s, color='red',show_edges=True)\n",
    "plotter.add_mesh(inlet_c, color='cyan',show_edges=True)\n",
    "plotter.add_mesh(outlet_c, color='magenta',show_edges=True)\n",
    "plotter.add_mesh(outside_c, color='green',show_edges=True)\n",
    "plotter.add_mesh(interface_c, color='red',show_edges=True)\n",
    "plotter.add_mesh(interface2_c, color='blue',show_edges=True)\n",
    "# plotter.add_mesh(arrows, color='red', label='Normals')\n",
    "plotter.add_text(\"Surface Mesh\", font_size=12)\n",
    "plotter.show()"
   ]
  },
  {
   "cell_type": "code",
   "execution_count": 45,
   "id": "db286a38",
   "metadata": {},
   "outputs": [
    {
     "data": {
      "text/plain": [
       "array(['FIB_DIR', 'GlobalElementID', 'GlobalNodeID', 'ids_end',\n",
       "       'ids_fluid', 'ids_interface', 'ids_outside', 'ids_solid',\n",
       "       'ids_start', 'ids_tortuosity', 'ids_x_seg', 'ids_x_zero',\n",
       "       'ids_y_seg', 'ids_y_zero', 'insult', 'varWallProps'], dtype='<U15')"
      ]
     },
     "execution_count": 45,
     "metadata": {},
     "output_type": "execute_result"
    }
   ],
   "source": [
    "np.sort(vol.cell_data)"
   ]
  }
 ],
 "metadata": {
  "kernelspec": {
   "display_name": "my_env",
   "language": "python",
   "name": "python3"
  },
  "language_info": {
   "codemirror_mode": {
    "name": "ipython",
    "version": 3
   },
   "file_extension": ".py",
   "mimetype": "text/x-python",
   "name": "python",
   "nbconvert_exporter": "python",
   "pygments_lexer": "ipython3",
   "version": "3.12.3"
  }
 },
 "nbformat": 4,
 "nbformat_minor": 5
}
