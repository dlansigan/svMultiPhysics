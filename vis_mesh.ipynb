{
 "cells": [
  {
   "cell_type": "code",
   "execution_count": 3,
   "id": "409361ee",
   "metadata": {},
   "outputs": [],
   "source": [
    "import tetgen\n",
    "import pyvista as pv\n",
    "import numpy as np"
   ]
  },
  {
   "cell_type": "code",
   "execution_count": 52,
   "id": "5da05c9a",
   "metadata": {},
   "outputs": [
    {
     "data": {
      "application/vnd.jupyter.widget-view+json": {
       "model_id": "f7d968b3bfea43e3b6f68830c151f036",
       "version_major": 2,
       "version_minor": 0
      },
      "text/plain": [
       "Widget(value='<iframe src=\"http://localhost:46369/index.html?ui=P_0x784148e74080_5&reconnect=auto\" class=\"pyvi…"
      ]
     },
     "metadata": {},
     "output_type": "display_data"
    }
   ],
   "source": [
    "# Load back and visualize\n",
    "mesh_path = '/home/dana/Documents/SimVascular/svMultiPhysics/tests/cases/fsi/pipe_3d/mesh/solid/'\n",
    "vol = pv.read(mesh_path+\"mesh-complete.mesh.vtu\")\n",
    "vol_s = vol.clip(normal='y',origin=(0,0,0),invert=True)\n",
    "inlet = pv.read(mesh_path+\"mesh-surfaces/start.vtp\")\n",
    "outlet = pv.read(mesh_path+\"mesh-surfaces/end.vtp\")\n",
    "outside = pv.read(mesh_path+\"mesh-surfaces/outside.vtp\")\n",
    "interface = pv.read(mesh_path+\"mesh-surfaces/interface.vtp\")\n",
    "inlet_c = inlet.clip(normal='y',origin=(0,0,0),invert=True)\n",
    "outlet_c = outlet.clip(normal='y',origin=(0,0,0),invert=True)\n",
    "outside_c = outside.clip(normal='y',origin=(0,0,0),invert=True)\n",
    "interface_c = interface.clip(normal='y',origin=(0,0,0),invert=True)\n",
    "\n",
    "\n",
    "mesh_path = '/home/dana/Documents/SimVascular/svMultiPhysics/tests/cases/fsi/pipe_3d/mesh/fluid/'\n",
    "vol2 = pv.read(mesh_path+\"mesh-complete.mesh.vtu\")\n",
    "vol2_s = vol2.clip(normal='y',origin=(0,0,0),invert=True)\n",
    "interface2 = pv.read(mesh_path+\"mesh-surfaces/interface.vtp\")\n",
    "interface2_c = interface2.clip(normal='y',origin=(0,0,0),invert=False)\n",
    "\n",
    "# Some camera stuff\n",
    "cam = [(13,3,3),(3,0,0),(0,0,1)]\n",
    "\n",
    "plotter = pv.Plotter(shape=(1,2))\n",
    "\n",
    "plotter.subplot(0,0)\n",
    "# plotter.camera_position = cam\n",
    "# plotter.add_mesh(vol, style='wireframe')\n",
    "plotter.add_mesh(vol_s, color='lightblue',show_edges=True)\n",
    "plotter.add_mesh(vol2_s, color='lightgreen',show_edges=True)\n",
    "plotter.add_text(\"Volume Mesh\", font_size=12)\n",
    "plotter.subplot(0,1)\n",
    "# plotter.camera_position = cam\n",
    "# plotter.add_mesh(surf, style='wireframe')\n",
    "# plotter.add_mesh(surf_s, color='red',show_edges=True)\n",
    "plotter.add_mesh(inlet_c, color='cyan',show_edges=True)\n",
    "plotter.add_mesh(outlet_c, color='magenta',show_edges=True)\n",
    "plotter.add_mesh(outside_c, color='green',show_edges=True)\n",
    "plotter.add_mesh(interface_c, color='red',show_edges=True)\n",
    "plotter.add_mesh(interface2_c, color='blue',show_edges=True)\n",
    "# plotter.add_mesh(arrows, color='red', label='Normals')\n",
    "plotter.add_text(\"Surface Mesh\", font_size=12)\n",
    "plotter.show()"
   ]
  },
  {
   "cell_type": "code",
   "execution_count": 57,
   "id": "db286a38",
   "metadata": {},
   "outputs": [
    {
     "data": {
      "text/html": [
       "<table style='width: 100%;'><tr><th>Header</th><th>Data Arrays</th></tr><tr><td>\n",
       "<table style='width: 100%;'>\n",
       "<tr><th>UnstructuredGrid</th><th>Information</th></tr>\n",
       "<tr><td>N Cells</td><td>320</td></tr>\n",
       "<tr><td>N Points</td><td>672</td></tr>\n",
       "<tr><td>X Bounds</td><td>-1.200e+00, 1.200e+00</td></tr>\n",
       "<tr><td>Y Bounds</td><td>-1.200e+00, 1.200e+00</td></tr>\n",
       "<tr><td>Z Bounds</td><td>0.000e+00, 1.000e+01</td></tr>\n",
       "<tr><td>N Arrays</td><td>27</td></tr>\n",
       "</table>\n",
       "\n",
       "</td><td>\n",
       "<table style='width: 100%;'>\n",
       "<tr><th>Name</th><th>Field</th><th>Type</th><th>N Comp</th><th>Min</th><th>Max</th></tr>\n",
       "<tr><td>GlobalNodeID</td><td>Points</td><td>int32</td><td>1</td><td>1.000e+00</td><td>6.720e+02</td></tr>\n",
       "<tr><td>FIB_DIR</td><td>Points</td><td>float64</td><td>3</td><td>-1.000e+00</td><td>1.000e+00</td></tr>\n",
       "<tr><td>varWallProps</td><td>Points</td><td>float64</td><td>13</td><td>-1.200e+00</td><td>1.337e+03</td></tr>\n",
       "<tr><td>ids_start</td><td>Points</td><td>int32</td><td>1</td><td>0.000e+00</td><td>1.000e+00</td></tr>\n",
       "<tr><td>ids_end</td><td>Points</td><td>int32</td><td>1</td><td>0.000e+00</td><td>1.000e+00</td></tr>\n",
       "<tr><td>ids_y_zero</td><td>Points</td><td>int32</td><td>1</td><td>0.000e+00</td><td>1.000e+00</td></tr>\n",
       "<tr><td>ids_x_zero</td><td>Points</td><td>int32</td><td>1</td><td>0.000e+00</td><td>1.000e+00</td></tr>\n",
       "<tr><td>ids_interface</td><td>Points</td><td>int32</td><td>1</td><td>0.000e+00</td><td>1.000e+00</td></tr>\n",
       "<tr><td>ids_outside</td><td>Points</td><td>int32</td><td>1</td><td>0.000e+00</td><td>1.000e+00</td></tr>\n",
       "<tr><td>ids_tortuosity</td><td>Points</td><td>int32</td><td>1</td><td>0.000e+00</td><td>1.000e+00</td></tr>\n",
       "<tr><td>insult</td><td>Points</td><td>float64</td><td>1</td><td>1.042e-02</td><td>1.000e+00</td></tr>\n",
       "<tr><td>GlobalElementID</td><td>Cells</td><td>int32</td><td>1</td><td>1.000e+00</td><td>3.200e+02</td></tr>\n",
       "<tr><td>ids_fluid</td><td>Cells</td><td>int32</td><td>1</td><td>0.000e+00</td><td>0.000e+00</td></tr>\n",
       "<tr><td>ids_solid</td><td>Cells</td><td>int32</td><td>1</td><td>1.000e+00</td><td>1.000e+00</td></tr>\n",
       "<tr><td>ids_x_seg</td><td>Cells</td><td>int32</td><td>1</td><td>0.000e+00</td><td>1.000e+00</td></tr>\n",
       "<tr><td>ids_y_seg</td><td>Cells</td><td>int32</td><td>1</td><td>0.000e+00</td><td>1.000e+00</td></tr>\n",
       "<tr><td>GlobalNodeID</td><td>Cells</td><td>float32</td><td>1</td><td>4.500e+00</td><td>6.545e+02</td></tr>\n",
       "<tr><td>FIB_DIR</td><td>Cells</td><td>float64</td><td>3</td><td>-9.619e-01</td><td>9.619e-01</td></tr>\n",
       "<tr><td>varWallProps</td><td>Cells</td><td>float64</td><td>13</td><td>-1.058e+00</td><td>1.337e+03</td></tr>\n",
       "<tr><td>ids_start</td><td>Cells</td><td>float32</td><td>1</td><td>0.000e+00</td><td>5.000e-01</td></tr>\n",
       "<tr><td>ids_end</td><td>Cells</td><td>float32</td><td>1</td><td>0.000e+00</td><td>5.000e-01</td></tr>\n",
       "<tr><td>ids_y_zero</td><td>Cells</td><td>float32</td><td>1</td><td>0.000e+00</td><td>5.000e-01</td></tr>\n",
       "<tr><td>ids_x_zero</td><td>Cells</td><td>float32</td><td>1</td><td>0.000e+00</td><td>5.000e-01</td></tr>\n",
       "<tr><td>ids_interface</td><td>Cells</td><td>float32</td><td>1</td><td>5.000e-01</td><td>5.000e-01</td></tr>\n",
       "<tr><td>ids_outside</td><td>Cells</td><td>float32</td><td>1</td><td>5.000e-01</td><td>5.000e-01</td></tr>\n",
       "<tr><td>ids_tortuosity</td><td>Cells</td><td>float32</td><td>1</td><td>0.000e+00</td><td>5.000e-01</td></tr>\n",
       "<tr><td>insult</td><td>Cells</td><td>float64</td><td>1</td><td>1.933e-02</td><td>9.804e-01</td></tr>\n",
       "</table>\n",
       "\n",
       "</td></tr> </table>"
      ],
      "text/plain": [
       "UnstructuredGrid (0x7841402a4d00)\n",
       "  N Cells:    320\n",
       "  N Points:   672\n",
       "  X Bounds:   -1.200e+00, 1.200e+00\n",
       "  Y Bounds:   -1.200e+00, 1.200e+00\n",
       "  Z Bounds:   0.000e+00, 1.000e+01\n",
       "  N Arrays:   27"
      ]
     },
     "execution_count": 57,
     "metadata": {},
     "output_type": "execute_result"
    }
   ],
   "source": [
    "vol"
   ]
  }
 ],
 "metadata": {
  "kernelspec": {
   "display_name": "my_env",
   "language": "python",
   "name": "python3"
  },
  "language_info": {
   "codemirror_mode": {
    "name": "ipython",
    "version": 3
   },
   "file_extension": ".py",
   "mimetype": "text/x-python",
   "name": "python",
   "nbconvert_exporter": "python",
   "pygments_lexer": "ipython3",
   "version": "3.12.3"
  }
 },
 "nbformat": 4,
 "nbformat_minor": 5
}
